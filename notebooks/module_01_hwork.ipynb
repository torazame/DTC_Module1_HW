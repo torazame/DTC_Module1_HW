{
 "cells": [
  {
   "cell_type": "markdown",
   "source": [
    "# Module 1 - Homework"
   ],
   "metadata": {
    "collapsed": false,
    "pycharm": {
     "name": "#%% md\n"
    }
   }
  },
  {
   "cell_type": "code",
   "execution_count": 1,
   "outputs": [],
   "source": [
    "from pathlib import Path\n",
    "\n",
    "import matplotlib.pyplot as plt\n",
    "import numpy as np\n",
    "import pandas as pd\n",
    "import seaborn as sns\n",
    "from sklearn.feature_extraction import DictVectorizer\n",
    "from sklearn.linear_model import LinearRegression\n",
    "from sklearn.metrics import mean_squared_error\n"
   ],
   "metadata": {
    "collapsed": false,
    "pycharm": {
     "name": "#%%\n"
    }
   }
  },
  {
   "cell_type": "markdown",
   "source": [
    "### File paths"
   ],
   "metadata": {
    "collapsed": false,
    "pycharm": {
     "name": "#%% md\n"
    }
   }
  },
  {
   "cell_type": "code",
   "execution_count": 5,
   "outputs": [],
   "source": [
    "january_data_path = Path('../MLOps Course/Module_01/hwork/data/fhv_tripdata_2021-01.parquet')\n",
    "february_data_path = Path('../MLOps Course/Module_01/hwork/data/fhv_tripdata_2021-02.parquet')"
   ],
   "metadata": {
    "collapsed": false,
    "pycharm": {
     "name": "#%%\n"
    }
   }
  },
  {
   "cell_type": "markdown",
   "source": [
    "### Load January Data"
   ],
   "metadata": {
    "collapsed": false,
    "pycharm": {
     "name": "#%% md\n"
    }
   }
  },
  {
   "cell_type": "code",
   "execution_count": 8,
   "outputs": [],
   "source": [
    "data_january = pd.read_parquet(january_data_path)"
   ],
   "metadata": {
    "collapsed": false,
    "pycharm": {
     "name": "#%%\n"
    }
   }
  },
  {
   "cell_type": "code",
   "execution_count": 9,
   "outputs": [
    {
     "data": {
      "text/plain": "  dispatching_base_num     pickup_datetime    dropOff_datetime  PUlocationID  \\\n0               B00009 2021-01-01 00:27:00 2021-01-01 00:44:00           NaN   \n1               B00009 2021-01-01 00:50:00 2021-01-01 01:07:00           NaN   \n2               B00013 2021-01-01 00:01:00 2021-01-01 01:51:00           NaN   \n3               B00037 2021-01-01 00:13:09 2021-01-01 00:21:26           NaN   \n4               B00037 2021-01-01 00:38:31 2021-01-01 00:53:44           NaN   \n\n   DOlocationID SR_Flag Affiliated_base_number  \n0           NaN    None                 B00009  \n1           NaN    None                 B00009  \n2           NaN    None                 B00013  \n3          72.0    None                 B00037  \n4          61.0    None                 B00037  ",
      "text/html": "<div>\n<style scoped>\n    .dataframe tbody tr th:only-of-type {\n        vertical-align: middle;\n    }\n\n    .dataframe tbody tr th {\n        vertical-align: top;\n    }\n\n    .dataframe thead th {\n        text-align: right;\n    }\n</style>\n<table border=\"1\" class=\"dataframe\">\n  <thead>\n    <tr style=\"text-align: right;\">\n      <th></th>\n      <th>dispatching_base_num</th>\n      <th>pickup_datetime</th>\n      <th>dropOff_datetime</th>\n      <th>PUlocationID</th>\n      <th>DOlocationID</th>\n      <th>SR_Flag</th>\n      <th>Affiliated_base_number</th>\n    </tr>\n  </thead>\n  <tbody>\n    <tr>\n      <th>0</th>\n      <td>B00009</td>\n      <td>2021-01-01 00:27:00</td>\n      <td>2021-01-01 00:44:00</td>\n      <td>NaN</td>\n      <td>NaN</td>\n      <td>None</td>\n      <td>B00009</td>\n    </tr>\n    <tr>\n      <th>1</th>\n      <td>B00009</td>\n      <td>2021-01-01 00:50:00</td>\n      <td>2021-01-01 01:07:00</td>\n      <td>NaN</td>\n      <td>NaN</td>\n      <td>None</td>\n      <td>B00009</td>\n    </tr>\n    <tr>\n      <th>2</th>\n      <td>B00013</td>\n      <td>2021-01-01 00:01:00</td>\n      <td>2021-01-01 01:51:00</td>\n      <td>NaN</td>\n      <td>NaN</td>\n      <td>None</td>\n      <td>B00013</td>\n    </tr>\n    <tr>\n      <th>3</th>\n      <td>B00037</td>\n      <td>2021-01-01 00:13:09</td>\n      <td>2021-01-01 00:21:26</td>\n      <td>NaN</td>\n      <td>72.0</td>\n      <td>None</td>\n      <td>B00037</td>\n    </tr>\n    <tr>\n      <th>4</th>\n      <td>B00037</td>\n      <td>2021-01-01 00:38:31</td>\n      <td>2021-01-01 00:53:44</td>\n      <td>NaN</td>\n      <td>61.0</td>\n      <td>None</td>\n      <td>B00037</td>\n    </tr>\n  </tbody>\n</table>\n</div>"
     },
     "execution_count": 9,
     "metadata": {},
     "output_type": "execute_result"
    }
   ],
   "source": [
    "data_january.head()"
   ],
   "metadata": {
    "collapsed": false,
    "pycharm": {
     "name": "#%%\n"
    }
   }
  },
  {
   "cell_type": "code",
   "execution_count": 11,
   "outputs": [
    {
     "name": "stdout",
     "output_type": "stream",
     "text": [
      "<class 'pandas.core.frame.DataFrame'>\n",
      "RangeIndex: 1154112 entries, 0 to 1154111\n",
      "Data columns (total 7 columns):\n",
      " #   Column                  Non-Null Count    Dtype         \n",
      "---  ------                  --------------    -----         \n",
      " 0   dispatching_base_num    1154112 non-null  object        \n",
      " 1   pickup_datetime         1154112 non-null  datetime64[ns]\n",
      " 2   dropOff_datetime        1154112 non-null  datetime64[ns]\n",
      " 3   PUlocationID            195845 non-null   float64       \n",
      " 4   DOlocationID            991892 non-null   float64       \n",
      " 5   SR_Flag                 0 non-null        object        \n",
      " 6   Affiliated_base_number  1153227 non-null  object        \n",
      "dtypes: datetime64[ns](2), float64(2), object(3)\n",
      "memory usage: 61.6+ MB\n"
     ]
    }
   ],
   "source": [
    "data_january.info()"
   ],
   "metadata": {
    "collapsed": false,
    "pycharm": {
     "name": "#%%\n"
    }
   }
  },
  {
   "cell_type": "code",
   "execution_count": 12,
   "outputs": [
    {
     "data": {
      "text/plain": "dispatching_base_num            0\npickup_datetime                 0\ndropOff_datetime                0\nPUlocationID               958267\nDOlocationID               162220\nSR_Flag                   1154112\nAffiliated_base_number        885\ndtype: int64"
     },
     "execution_count": 12,
     "metadata": {},
     "output_type": "execute_result"
    }
   ],
   "source": [
    "# Check NaN values\n",
    "data_january.isna().sum()"
   ],
   "metadata": {
    "collapsed": false,
    "pycharm": {
     "name": "#%%\n"
    }
   }
  },
  {
   "cell_type": "markdown",
   "source": [
    "#### Q1 - How many records are there (data for January)"
   ],
   "metadata": {
    "collapsed": false,
    "pycharm": {
     "name": "#%% md\n"
    }
   }
  },
  {
   "cell_type": "code",
   "execution_count": 14,
   "outputs": [
    {
     "name": "stdout",
     "output_type": "stream",
     "text": [
      "The dataset contains 1154112 records\n"
     ]
    }
   ],
   "source": [
    "print(f'The dataset contains {data_january.shape[0]} records')"
   ],
   "metadata": {
    "collapsed": false,
    "pycharm": {
     "name": "#%%\n"
    }
   }
  },
  {
   "cell_type": "markdown",
   "source": [
    "#### Q2 - What's the average trip duration in January?"
   ],
   "metadata": {
    "collapsed": false,
    "pycharm": {
     "name": "#%% md\n"
    }
   }
  },
  {
   "cell_type": "code",
   "execution_count": 15,
   "outputs": [],
   "source": [
    "# add a column with trip duration\n",
    "data_january = data_january.assign(trip_duration=lambda r: (r.dropOff_datetime - r.pickup_datetime).dt.total_seconds() / 60)"
   ],
   "metadata": {
    "collapsed": false,
    "pycharm": {
     "name": "#%%\n"
    }
   }
  },
  {
   "cell_type": "code",
   "execution_count": 16,
   "outputs": [
    {
     "data": {
      "text/plain": "  dispatching_base_num     pickup_datetime    dropOff_datetime  PUlocationID  \\\n0               B00009 2021-01-01 00:27:00 2021-01-01 00:44:00           NaN   \n1               B00009 2021-01-01 00:50:00 2021-01-01 01:07:00           NaN   \n2               B00013 2021-01-01 00:01:00 2021-01-01 01:51:00           NaN   \n3               B00037 2021-01-01 00:13:09 2021-01-01 00:21:26           NaN   \n4               B00037 2021-01-01 00:38:31 2021-01-01 00:53:44           NaN   \n\n   DOlocationID SR_Flag Affiliated_base_number  trip_duration  \n0           NaN    None                 B00009      17.000000  \n1           NaN    None                 B00009      17.000000  \n2           NaN    None                 B00013     110.000000  \n3          72.0    None                 B00037       8.283333  \n4          61.0    None                 B00037      15.216667  ",
      "text/html": "<div>\n<style scoped>\n    .dataframe tbody tr th:only-of-type {\n        vertical-align: middle;\n    }\n\n    .dataframe tbody tr th {\n        vertical-align: top;\n    }\n\n    .dataframe thead th {\n        text-align: right;\n    }\n</style>\n<table border=\"1\" class=\"dataframe\">\n  <thead>\n    <tr style=\"text-align: right;\">\n      <th></th>\n      <th>dispatching_base_num</th>\n      <th>pickup_datetime</th>\n      <th>dropOff_datetime</th>\n      <th>PUlocationID</th>\n      <th>DOlocationID</th>\n      <th>SR_Flag</th>\n      <th>Affiliated_base_number</th>\n      <th>trip_duration</th>\n    </tr>\n  </thead>\n  <tbody>\n    <tr>\n      <th>0</th>\n      <td>B00009</td>\n      <td>2021-01-01 00:27:00</td>\n      <td>2021-01-01 00:44:00</td>\n      <td>NaN</td>\n      <td>NaN</td>\n      <td>None</td>\n      <td>B00009</td>\n      <td>17.000000</td>\n    </tr>\n    <tr>\n      <th>1</th>\n      <td>B00009</td>\n      <td>2021-01-01 00:50:00</td>\n      <td>2021-01-01 01:07:00</td>\n      <td>NaN</td>\n      <td>NaN</td>\n      <td>None</td>\n      <td>B00009</td>\n      <td>17.000000</td>\n    </tr>\n    <tr>\n      <th>2</th>\n      <td>B00013</td>\n      <td>2021-01-01 00:01:00</td>\n      <td>2021-01-01 01:51:00</td>\n      <td>NaN</td>\n      <td>NaN</td>\n      <td>None</td>\n      <td>B00013</td>\n      <td>110.000000</td>\n    </tr>\n    <tr>\n      <th>3</th>\n      <td>B00037</td>\n      <td>2021-01-01 00:13:09</td>\n      <td>2021-01-01 00:21:26</td>\n      <td>NaN</td>\n      <td>72.0</td>\n      <td>None</td>\n      <td>B00037</td>\n      <td>8.283333</td>\n    </tr>\n    <tr>\n      <th>4</th>\n      <td>B00037</td>\n      <td>2021-01-01 00:38:31</td>\n      <td>2021-01-01 00:53:44</td>\n      <td>NaN</td>\n      <td>61.0</td>\n      <td>None</td>\n      <td>B00037</td>\n      <td>15.216667</td>\n    </tr>\n  </tbody>\n</table>\n</div>"
     },
     "execution_count": 16,
     "metadata": {},
     "output_type": "execute_result"
    }
   ],
   "source": [
    "data_january.head()"
   ],
   "metadata": {
    "collapsed": false,
    "pycharm": {
     "name": "#%%\n"
    }
   }
  },
  {
   "cell_type": "code",
   "execution_count": 18,
   "outputs": [
    {
     "name": "stdout",
     "output_type": "stream",
     "text": [
      "Average trip duration = 19.17 minuutes\n"
     ]
    }
   ],
   "source": [
    "# Average trip duration in January\n",
    "avg_duration = data_january.trip_duration.mean()\n",
    "print(f'Average trip duration = {round(avg_duration, 2)} minuutes')\n"
   ],
   "metadata": {
    "collapsed": false,
    "pycharm": {
     "name": "#%%\n"
    }
   }
  },
  {
   "cell_type": "markdown",
   "source": [
    "Q3 - Check the distribution of the duration variable. There are some outliers.\n",
    "\n",
    "Let's remove them and keep only the records where the duration was between 1 and 60 minutes (inclusive).\n",
    "\n",
    "How many records did you drop?"
   ],
   "metadata": {
    "collapsed": false,
    "pycharm": {
     "name": "#%% md\n"
    }
   }
  },
  {
   "cell_type": "code",
   "execution_count": 26,
   "outputs": [
    {
     "data": {
      "text/plain": "count    1.154112e+06\nmean     1.916722e+01\nstd      3.986922e+02\nmin      1.666667e-02\n25%      7.766667e+00\n50%      1.340000e+01\n75%      2.228333e+01\nmax      4.233710e+05\nName: trip_duration, dtype: float64"
     },
     "execution_count": 26,
     "metadata": {},
     "output_type": "execute_result"
    }
   ],
   "source": [
    "trip_duration_stats = data_january.trip_duration.describe()\n",
    "trip_duration_stats\n"
   ],
   "metadata": {
    "collapsed": false,
    "pycharm": {
     "name": "#%%\n"
    }
   }
  },
  {
   "cell_type": "code",
   "execution_count": 24,
   "outputs": [],
   "source": [
    "jan_trip_duration_log = data_january.trip_duration.apply(np.log)"
   ],
   "metadata": {
    "collapsed": false,
    "pycharm": {
     "name": "#%%\n"
    }
   }
  },
  {
   "cell_type": "code",
   "execution_count": 28,
   "outputs": [
    {
     "data": {
      "text/plain": "count    1.154112e+06\nmean     2.522544e+00\nstd      9.786258e-01\nmin     -4.094345e+00\n25%      2.049841e+00\n50%      2.595255e+00\n75%      3.103839e+00\nmax      1.295600e+01\nName: trip_duration, dtype: float64"
     },
     "execution_count": 28,
     "metadata": {},
     "output_type": "execute_result"
    }
   ],
   "source": [
    "trip_duration_stats_log = jan_trip_duration_log.describe()\n",
    "trip_duration_stats_log"
   ],
   "metadata": {
    "collapsed": false,
    "pycharm": {
     "name": "#%%\n"
    }
   }
  },
  {
   "cell_type": "code",
   "execution_count": 51,
   "outputs": [
    {
     "data": {
      "text/plain": "<Figure size 1000x500 with 1 Axes>",
      "image/png": "[encoded data removed]"
     },
     "metadata": {},
     "output_type": "display_data"
    }
   ],
   "source": [
    "sns.displot(x=jan_trip_duration_log, aspect=2)\n",
    "plt.vlines(x=[trip_duration_stats_log.loc['min'],\n",
    "              trip_duration_stats_log.loc['max'],\n",
    "              0,\n",
    "              jan_trip_duration_log.mean() + jan_trip_duration_log.std() * 3],\n",
    "           ymin=0, ymax=15000, colors=['red', 'brown', 'green', 'blue'],  linestyles='--', lw=1)\n",
    "plt.text(-4, 15500, 'Minimum', fontdict={'fontsize': 12, 'color': 'red'})\n",
    "plt.text(0, 15500, 'Lower bound', fontdict={'fontsize': 12, 'color': 'green'})\n",
    "plt.text(5.5, 15500, '3 sigma upper bound', fontdict={'fontsize': 12, 'color': 'blue'})\n",
    "plt.text(12.95, 15500, 'Maximum', fontdict={'fontsize': 12, 'color': 'brown'})\n",
    "plt.title('Trip Duration Distribution', pad=15, fontsize=18, loc='left')\n",
    "sns.despine(offset=10)"
   ],
   "metadata": {
    "collapsed": false,
    "pycharm": {
     "name": "#%%\n"
    }
   }
  },
  {
   "cell_type": "code",
   "execution_count": 52,
   "outputs": [
    {
     "data": {
      "text/plain": "                   count       mean         std       min       25%   50%  \\\ntrip_duration  1154112.0  19.167224  398.692165  0.016667  7.766667  13.4   \n\n                     75%        max  \ntrip_duration  22.283333  423371.05  ",
      "text/html": "<div>\n<style scoped>\n    .dataframe tbody tr th:only-of-type {\n        vertical-align: middle;\n    }\n\n    .dataframe tbody tr th {\n        vertical-align: top;\n    }\n\n    .dataframe thead th {\n        text-align: right;\n    }\n</style>\n<table border=\"1\" class=\"dataframe\">\n  <thead>\n    <tr style=\"text-align: right;\">\n      <th></th>\n      <th>count</th>\n      <th>mean</th>\n      <th>std</th>\n      <th>min</th>\n      <th>25%</th>\n      <th>50%</th>\n      <th>75%</th>\n      <th>max</th>\n    </tr>\n  </thead>\n  <tbody>\n    <tr>\n      <th>trip_duration</th>\n      <td>1154112.0</td>\n      <td>19.167224</td>\n      <td>398.692165</td>\n      <td>0.016667</td>\n      <td>7.766667</td>\n      <td>13.4</td>\n      <td>22.283333</td>\n      <td>423371.05</td>\n    </tr>\n  </tbody>\n</table>\n</div>"
     },
     "execution_count": 52,
     "metadata": {},
     "output_type": "execute_result"
    }
   ],
   "source": [
    "data_january.trip_duration.describe().to_frame().T\n"
   ],
   "metadata": {
    "collapsed": false,
    "pycharm": {
     "name": "#%%\n"
    }
   }
  },
  {
   "cell_type": "code",
   "execution_count": 53,
   "outputs": [
    {
     "data": {
      "text/plain": "  dispatching_base_num     pickup_datetime    dropOff_datetime  PUlocationID  \\\n0               B00009 2021-01-01 00:27:00 2021-01-01 00:44:00           NaN   \n1               B00009 2021-01-01 00:50:00 2021-01-01 01:07:00           NaN   \n3               B00037 2021-01-01 00:13:09 2021-01-01 00:21:26           NaN   \n4               B00037 2021-01-01 00:38:31 2021-01-01 00:53:44           NaN   \n5               B00037 2021-01-01 00:59:02 2021-01-01 01:08:05           NaN   \n\n   DOlocationID SR_Flag Affiliated_base_number  trip_duration  \n0           NaN    None                 B00009      17.000000  \n1           NaN    None                 B00009      17.000000  \n3          72.0    None                 B00037       8.283333  \n4          61.0    None                 B00037      15.216667  \n5          71.0    None                 B00037       9.050000  ",
      "text/html": "<div>\n<style scoped>\n    .dataframe tbody tr th:only-of-type {\n        vertical-align: middle;\n    }\n\n    .dataframe tbody tr th {\n        vertical-align: top;\n    }\n\n    .dataframe thead th {\n        text-align: right;\n    }\n</style>\n<table border=\"1\" class=\"dataframe\">\n  <thead>\n    <tr style=\"text-align: right;\">\n      <th></th>\n      <th>dispatching_base_num</th>\n      <th>pickup_datetime</th>\n      <th>dropOff_datetime</th>\n      <th>PUlocationID</th>\n      <th>DOlocationID</th>\n      <th>SR_Flag</th>\n      <th>Affiliated_base_number</th>\n      <th>trip_duration</th>\n    </tr>\n  </thead>\n  <tbody>\n    <tr>\n      <th>0</th>\n      <td>B00009</td>\n      <td>2021-01-01 00:27:00</td>\n      <td>2021-01-01 00:44:00</td>\n      <td>NaN</td>\n      <td>NaN</td>\n      <td>None</td>\n      <td>B00009</td>\n      <td>17.000000</td>\n    </tr>\n    <tr>\n      <th>1</th>\n      <td>B00009</td>\n      <td>2021-01-01 00:50:00</td>\n      <td>2021-01-01 01:07:00</td>\n      <td>NaN</td>\n      <td>NaN</td>\n      <td>None</td>\n      <td>B00009</td>\n      <td>17.000000</td>\n    </tr>\n    <tr>\n      <th>3</th>\n      <td>B00037</td>\n      <td>2021-01-01 00:13:09</td>\n      <td>2021-01-01 00:21:26</td>\n      <td>NaN</td>\n      <td>72.0</td>\n      <td>None</td>\n      <td>B00037</td>\n      <td>8.283333</td>\n    </tr>\n    <tr>\n      <th>4</th>\n      <td>B00037</td>\n      <td>2021-01-01 00:38:31</td>\n      <td>2021-01-01 00:53:44</td>\n      <td>NaN</td>\n      <td>61.0</td>\n      <td>None</td>\n      <td>B00037</td>\n      <td>15.216667</td>\n    </tr>\n    <tr>\n      <th>5</th>\n      <td>B00037</td>\n      <td>2021-01-01 00:59:02</td>\n      <td>2021-01-01 01:08:05</td>\n      <td>NaN</td>\n      <td>71.0</td>\n      <td>None</td>\n      <td>B00037</td>\n      <td>9.050000</td>\n    </tr>\n  </tbody>\n</table>\n</div>"
     },
     "execution_count": 53,
     "metadata": {},
     "output_type": "execute_result"
    }
   ],
   "source": [
    "data_january_filtered = data_january.loc[lambda r: r.trip_duration.between(1, 60)]\n",
    "data_january_filtered.head()\n"
   ],
   "metadata": {
    "collapsed": false,
    "pycharm": {
     "name": "#%%\n"
    }
   }
  },
  {
   "cell_type": "code",
   "execution_count": 57,
   "outputs": [
    {
     "name": "stdout",
     "output_type": "stream",
     "text": [
      "Dropped 44286 records, or approximately 3.84%\n"
     ]
    }
   ],
   "source": [
    "dropped_records_pct = (data_january_filtered.shape[0] / data_january.shape[0]) - 1\n",
    "dropped_records_abs = data_january.shape[0] - data_january_filtered.shape[0]\n",
    "print(f'Dropped {dropped_records_abs} records, or approximately {round(abs(dropped_records_pct), 4) * 100}%')\n"
   ],
   "metadata": {
    "collapsed": false,
    "pycharm": {
     "name": "#%%\n"
    }
   }
  },
  {
   "cell_type": "markdown",
   "source": [
    "#### Q3 - Missing Values\n",
    "\n",
    "The features we'll use for our model are the pickup and dropoff location IDs.\n",
    "\n",
    "But they have a lot of missing values there. Let's replace them with \"-1\"\n",
    "\n",
    "What's the factions of missing values for the pickup location ID? (Or the fraction of \"-1\"s after you filled the NAs)"
   ],
   "metadata": {
    "collapsed": false,
    "pycharm": {
     "name": "#%% md\n"
    }
   }
  },
  {
   "cell_type": "code",
   "execution_count": 59,
   "outputs": [
    {
     "data": {
      "text/plain": "dispatching_base_num            0\npickup_datetime                 0\ndropOff_datetime                0\nPUlocationID               927008\nDOlocationID               147907\nSR_Flag                   1109826\nAffiliated_base_number        773\ntrip_duration                   0\ndtype: int64"
     },
     "execution_count": 59,
     "metadata": {},
     "output_type": "execute_result"
    }
   ],
   "source": [
    "data_january_filtered.isna().sum()"
   ],
   "metadata": {
    "collapsed": false,
    "pycharm": {
     "name": "#%%\n"
    }
   }
  },
  {
   "cell_type": "code",
   "execution_count": 60,
   "outputs": [
    {
     "name": "stderr",
     "output_type": "stream",
     "text": [
      "/var/folders/_2/79v295rs0nz_cnxxdvyx3hj40000gn/T/ipykernel_17291/1209738669.py:1: SettingWithCopyWarning: \n",
      "A value is trying to be set on a copy of a slice from a DataFrame.\n",
      "Try using .loc[row_indexer,col_indexer] = value instead\n",
      "\n",
      "See the caveats in the documentation: https://pandas.pydata.org/pandas-docs/stable/user_guide/indexing.html#returning-a-view-versus-a-copy\n",
      "  data_january_filtered.loc[:, ['PUlocationID', 'DOlocationID']] = data_january_filtered.loc[:, ['PUlocationID', 'DOlocationID']].fillna(-1)\n"
     ]
    }
   ],
   "source": [
    "data_january_filtered.loc[:, ['PUlocationID', 'DOlocationID']] = data_january_filtered.loc[:, ['PUlocationID', 'DOlocationID']].fillna(-1)"
   ],
   "metadata": {
    "collapsed": false,
    "pycharm": {
     "name": "#%%\n"
    }
   }
  },
  {
   "cell_type": "code",
   "execution_count": 61,
   "outputs": [
    {
     "data": {
      "text/plain": "0.8352732770722617"
     },
     "execution_count": 61,
     "metadata": {},
     "output_type": "execute_result"
    }
   ],
   "source": [
    "num_of_missing_vals_pulocationid = data_january_filtered.PUlocationID.value_counts(normalize=True).loc[-1]\n",
    "num_of_missing_vals_pulocationid\n"
   ],
   "metadata": {
    "collapsed": false,
    "pycharm": {
     "name": "#%%\n"
    }
   }
  },
  {
   "cell_type": "code",
   "execution_count": 62,
   "outputs": [
    {
     "name": "stdout",
     "output_type": "stream",
     "text": [
      "Null values share in column PUlocationID  - 83.53%\n"
     ]
    }
   ],
   "source": [
    "print(f'Null values share in column PUlocationID  - {round(num_of_missing_vals_pulocationid, 4) * 100}%')"
   ],
   "metadata": {
    "collapsed": false,
    "pycharm": {
     "name": "#%%\n"
    }
   }
  },
  {
   "cell_type": "markdown",
   "source": [
    "Q4. One-hot encoding\n",
    "\n",
    "Let's apply one-hot encoding to the pickup and dropoff location IDs. We'll use only these two features for our model.\n",
    "\n",
    "Turn the dataframe into a list of dictionaries\n",
    "Fit a dictionary vectorizer\n",
    "Get a feature matrix from it\n",
    "What's the dimensionality of this matrix? (The number of columns)."
   ],
   "metadata": {
    "collapsed": false,
    "pycharm": {
     "name": "#%% md\n"
    }
   }
  },
  {
   "cell_type": "code",
   "execution_count": 63,
   "outputs": [
    {
     "name": "stdout",
     "output_type": "stream",
     "text": [
      "<class 'pandas.core.frame.DataFrame'>\n",
      "Int64Index: 1109826 entries, 0 to 1154111\n",
      "Data columns (total 8 columns):\n",
      " #   Column                  Non-Null Count    Dtype         \n",
      "---  ------                  --------------    -----         \n",
      " 0   dispatching_base_num    1109826 non-null  object        \n",
      " 1   pickup_datetime         1109826 non-null  datetime64[ns]\n",
      " 2   dropOff_datetime        1109826 non-null  datetime64[ns]\n",
      " 3   PUlocationID            1109826 non-null  float64       \n",
      " 4   DOlocationID            1109826 non-null  float64       \n",
      " 5   SR_Flag                 0 non-null        object        \n",
      " 6   Affiliated_base_number  1109053 non-null  object        \n",
      " 7   trip_duration           1109826 non-null  float64       \n",
      "dtypes: datetime64[ns](2), float64(3), object(3)\n",
      "memory usage: 76.2+ MB\n"
     ]
    }
   ],
   "source": [
    "data_january_filtered.info()"
   ],
   "metadata": {
    "collapsed": false,
    "pycharm": {
     "name": "#%%\n"
    }
   }
  },
  {
   "cell_type": "code",
   "execution_count": 64,
   "outputs": [
    {
     "data": {
      "text/plain": "[{'PUlocationID': '-1.0', 'DOlocationID': '-1.0'},\n {'PUlocationID': '-1.0', 'DOlocationID': '-1.0'},\n {'PUlocationID': '-1.0', 'DOlocationID': '72.0'},\n {'PUlocationID': '-1.0', 'DOlocationID': '61.0'},\n {'PUlocationID': '-1.0', 'DOlocationID': '71.0'},\n {'PUlocationID': '-1.0', 'DOlocationID': '91.0'},\n {'PUlocationID': '-1.0', 'DOlocationID': '39.0'},\n {'PUlocationID': '-1.0', 'DOlocationID': '37.0'},\n {'PUlocationID': '-1.0', 'DOlocationID': '39.0'},\n {'PUlocationID': '-1.0', 'DOlocationID': '72.0'},\n {'PUlocationID': '-1.0', 'DOlocationID': '72.0'},\n {'PUlocationID': '-1.0', 'DOlocationID': '89.0'},\n {'PUlocationID': '-1.0', 'DOlocationID': '177.0'},\n {'PUlocationID': '-1.0', 'DOlocationID': '225.0'},\n {'PUlocationID': '-1.0', 'DOlocationID': '63.0'},\n {'PUlocationID': '-1.0', 'DOlocationID': '67.0'},\n {'PUlocationID': '-1.0', 'DOlocationID': '22.0'},\n {'PUlocationID': '-1.0', 'DOlocationID': '61.0'},\n {'PUlocationID': '-1.0', 'DOlocationID': '14.0'},\n {'PUlocationID': '-1.0', 'DOlocationID': '14.0'},\n {'PUlocationID': '-1.0', 'DOlocationID': '188.0'},\n {'PUlocationID': '-1.0', 'DOlocationID': '72.0'},\n {'PUlocationID': '-1.0', 'DOlocationID': '225.0'},\n {'PUlocationID': '-1.0', 'DOlocationID': '61.0'},\n {'PUlocationID': '-1.0', 'DOlocationID': '72.0'},\n {'PUlocationID': '-1.0', 'DOlocationID': '61.0'},\n {'PUlocationID': '-1.0', 'DOlocationID': '35.0'},\n {'PUlocationID': '-1.0', 'DOlocationID': '14.0'},\n {'PUlocationID': '-1.0', 'DOlocationID': '63.0'},\n {'PUlocationID': '-1.0', 'DOlocationID': '122.0'},\n {'PUlocationID': '-1.0', 'DOlocationID': '168.0'},\n {'PUlocationID': '-1.0', 'DOlocationID': '61.0'},\n {'PUlocationID': '-1.0', 'DOlocationID': '77.0'},\n {'PUlocationID': '236.0', 'DOlocationID': '237.0'},\n {'PUlocationID': '-1.0', 'DOlocationID': '-1.0'},\n {'PUlocationID': '-1.0', 'DOlocationID': '-1.0'},\n {'PUlocationID': '-1.0', 'DOlocationID': '-1.0'},\n {'PUlocationID': '-1.0', 'DOlocationID': '-1.0'},\n {'PUlocationID': '-1.0', 'DOlocationID': '-1.0'},\n {'PUlocationID': '-1.0', 'DOlocationID': '-1.0'},\n {'PUlocationID': '-1.0', 'DOlocationID': '-1.0'},\n {'PUlocationID': '-1.0', 'DOlocationID': '-1.0'},\n {'PUlocationID': '-1.0', 'DOlocationID': '-1.0'},\n {'PUlocationID': '-1.0', 'DOlocationID': '-1.0'},\n {'PUlocationID': '-1.0', 'DOlocationID': '-1.0'},\n {'PUlocationID': '196.0', 'DOlocationID': '196.0'},\n {'PUlocationID': '-1.0', 'DOlocationID': '60.0'},\n {'PUlocationID': '-1.0', 'DOlocationID': '126.0'},\n {'PUlocationID': '-1.0', 'DOlocationID': '119.0'},\n {'PUlocationID': '-1.0', 'DOlocationID': '169.0'},\n {'PUlocationID': '-1.0', 'DOlocationID': '254.0'},\n {'PUlocationID': '-1.0', 'DOlocationID': '213.0'},\n {'PUlocationID': '-1.0', 'DOlocationID': '174.0'},\n {'PUlocationID': '-1.0', 'DOlocationID': '248.0'},\n {'PUlocationID': '-1.0', 'DOlocationID': '213.0'},\n {'PUlocationID': '-1.0', 'DOlocationID': '259.0'},\n {'PUlocationID': '-1.0', 'DOlocationID': '42.0'},\n {'PUlocationID': '-1.0', 'DOlocationID': '248.0'},\n {'PUlocationID': '-1.0', 'DOlocationID': '213.0'},\n {'PUlocationID': '-1.0', 'DOlocationID': '168.0'},\n {'PUlocationID': '-1.0', 'DOlocationID': '32.0'},\n {'PUlocationID': '-1.0', 'DOlocationID': '18.0'},\n {'PUlocationID': '-1.0', 'DOlocationID': '126.0'},\n {'PUlocationID': '-1.0', 'DOlocationID': '127.0'},\n {'PUlocationID': '-1.0', 'DOlocationID': '69.0'},\n {'PUlocationID': '-1.0', 'DOlocationID': '121.0'},\n {'PUlocationID': '-1.0', 'DOlocationID': '240.0'},\n {'PUlocationID': '-1.0', 'DOlocationID': '168.0'},\n {'PUlocationID': '-1.0', 'DOlocationID': '248.0'},\n {'PUlocationID': '-1.0', 'DOlocationID': '20.0'},\n {'PUlocationID': '-1.0', 'DOlocationID': '242.0'},\n {'PUlocationID': '-1.0', 'DOlocationID': '200.0'},\n {'PUlocationID': '-1.0', 'DOlocationID': '182.0'},\n {'PUlocationID': '-1.0', 'DOlocationID': '208.0'},\n {'PUlocationID': '-1.0', 'DOlocationID': '168.0'},\n {'PUlocationID': '-1.0', 'DOlocationID': '169.0'},\n {'PUlocationID': '-1.0', 'DOlocationID': '168.0'},\n {'PUlocationID': '-1.0', 'DOlocationID': '70.0'},\n {'PUlocationID': '-1.0', 'DOlocationID': '70.0'},\n {'PUlocationID': '-1.0', 'DOlocationID': '129.0'},\n {'PUlocationID': '-1.0', 'DOlocationID': '77.0'},\n {'PUlocationID': '252.0', 'DOlocationID': '16.0'},\n {'PUlocationID': '15.0', 'DOlocationID': '252.0'},\n {'PUlocationID': '165.0', 'DOlocationID': '-1.0'},\n {'PUlocationID': '-1.0', 'DOlocationID': '42.0'},\n {'PUlocationID': '-1.0', 'DOlocationID': '223.0'},\n {'PUlocationID': '-1.0', 'DOlocationID': '78.0'},\n {'PUlocationID': '-1.0', 'DOlocationID': '254.0'},\n {'PUlocationID': '-1.0', 'DOlocationID': '136.0'},\n {'PUlocationID': '-1.0', 'DOlocationID': '254.0'},\n {'PUlocationID': '-1.0', 'DOlocationID': '167.0'},\n {'PUlocationID': '70.0', 'DOlocationID': '173.0'},\n {'PUlocationID': '173.0', 'DOlocationID': '173.0'},\n {'PUlocationID': '260.0', 'DOlocationID': '82.0'},\n {'PUlocationID': '143.0', 'DOlocationID': '142.0'},\n {'PUlocationID': '-1.0', 'DOlocationID': '18.0'},\n {'PUlocationID': '-1.0', 'DOlocationID': '169.0'},\n {'PUlocationID': '-1.0', 'DOlocationID': '159.0'},\n {'PUlocationID': '-1.0', 'DOlocationID': '168.0'},\n {'PUlocationID': '-1.0', 'DOlocationID': '136.0'},\n {'PUlocationID': '-1.0', 'DOlocationID': '18.0'},\n {'PUlocationID': '-1.0', 'DOlocationID': '254.0'},\n {'PUlocationID': '-1.0', 'DOlocationID': '244.0'},\n {'PUlocationID': '-1.0', 'DOlocationID': '147.0'},\n {'PUlocationID': '-1.0', 'DOlocationID': '116.0'},\n {'PUlocationID': '115.0', 'DOlocationID': '206.0'},\n {'PUlocationID': '221.0', 'DOlocationID': '115.0'},\n {'PUlocationID': '115.0', 'DOlocationID': '245.0'},\n {'PUlocationID': '206.0', 'DOlocationID': '206.0'},\n {'PUlocationID': '221.0', 'DOlocationID': '221.0'},\n {'PUlocationID': '206.0', 'DOlocationID': '187.0'},\n {'PUlocationID': '206.0', 'DOlocationID': '206.0'},\n {'PUlocationID': '221.0', 'DOlocationID': '206.0'},\n {'PUlocationID': '206.0', 'DOlocationID': '187.0'},\n {'PUlocationID': '206.0', 'DOlocationID': '187.0'},\n {'PUlocationID': '206.0', 'DOlocationID': '206.0'},\n {'PUlocationID': '206.0', 'DOlocationID': '221.0'},\n {'PUlocationID': '206.0', 'DOlocationID': '221.0'},\n {'PUlocationID': '115.0', 'DOlocationID': '206.0'},\n {'PUlocationID': '206.0', 'DOlocationID': '221.0'},\n {'PUlocationID': '206.0', 'DOlocationID': '221.0'},\n {'PUlocationID': '-1.0', 'DOlocationID': '-1.0'},\n {'PUlocationID': '-1.0', 'DOlocationID': '-1.0'},\n {'PUlocationID': '-1.0', 'DOlocationID': '-1.0'},\n {'PUlocationID': '-1.0', 'DOlocationID': '-1.0'},\n {'PUlocationID': '-1.0', 'DOlocationID': '-1.0'},\n {'PUlocationID': '-1.0', 'DOlocationID': '78.0'},\n {'PUlocationID': '-1.0', 'DOlocationID': '60.0'},\n {'PUlocationID': '-1.0', 'DOlocationID': '60.0'},\n {'PUlocationID': '-1.0', 'DOlocationID': '76.0'},\n {'PUlocationID': '-1.0', 'DOlocationID': '63.0'},\n {'PUlocationID': '-1.0', 'DOlocationID': '63.0'},\n {'PUlocationID': '-1.0', 'DOlocationID': '258.0'},\n {'PUlocationID': '-1.0', 'DOlocationID': '210.0'},\n {'PUlocationID': '-1.0', 'DOlocationID': '63.0'},\n {'PUlocationID': '-1.0', 'DOlocationID': '76.0'},\n {'PUlocationID': '-1.0', 'DOlocationID': '72.0'},\n {'PUlocationID': '-1.0', 'DOlocationID': '17.0'},\n {'PUlocationID': '-1.0', 'DOlocationID': '76.0'},\n {'PUlocationID': '-1.0', 'DOlocationID': '63.0'},\n {'PUlocationID': '-1.0', 'DOlocationID': '63.0'},\n {'PUlocationID': '-1.0', 'DOlocationID': '37.0'},\n {'PUlocationID': '-1.0', 'DOlocationID': '258.0'},\n {'PUlocationID': '-1.0', 'DOlocationID': '70.0'},\n {'PUlocationID': '181.0', 'DOlocationID': '189.0'},\n {'PUlocationID': '189.0', 'DOlocationID': '181.0'},\n {'PUlocationID': '181.0', 'DOlocationID': '228.0'},\n {'PUlocationID': '166.0', 'DOlocationID': '228.0'},\n {'PUlocationID': '-1.0', 'DOlocationID': '89.0'},\n {'PUlocationID': '-1.0', 'DOlocationID': '17.0'},\n {'PUlocationID': '-1.0', 'DOlocationID': '76.0'},\n {'PUlocationID': '-1.0', 'DOlocationID': '222.0'},\n {'PUlocationID': '-1.0', 'DOlocationID': '76.0'},\n {'PUlocationID': '-1.0', 'DOlocationID': '76.0'},\n {'PUlocationID': '-1.0', 'DOlocationID': '35.0'},\n {'PUlocationID': '-1.0', 'DOlocationID': '76.0'},\n {'PUlocationID': '-1.0', 'DOlocationID': '247.0'},\n {'PUlocationID': '-1.0', 'DOlocationID': '119.0'},\n {'PUlocationID': '-1.0', 'DOlocationID': '71.0'},\n {'PUlocationID': '-1.0', 'DOlocationID': '85.0'},\n {'PUlocationID': '-1.0', 'DOlocationID': '71.0'},\n {'PUlocationID': '-1.0', 'DOlocationID': '225.0'},\n {'PUlocationID': '-1.0', 'DOlocationID': '37.0'},\n {'PUlocationID': '-1.0', 'DOlocationID': '198.0'},\n {'PUlocationID': '-1.0', 'DOlocationID': '76.0'},\n {'PUlocationID': '-1.0', 'DOlocationID': '225.0'},\n {'PUlocationID': '-1.0', 'DOlocationID': '89.0'},\n {'PUlocationID': '-1.0', 'DOlocationID': '256.0'},\n {'PUlocationID': '-1.0', 'DOlocationID': '76.0'},\n {'PUlocationID': '-1.0', 'DOlocationID': '71.0'},\n {'PUlocationID': '-1.0', 'DOlocationID': '35.0'},\n {'PUlocationID': '-1.0', 'DOlocationID': '10.0'},\n {'PUlocationID': '-1.0', 'DOlocationID': '66.0'},\n {'PUlocationID': '-1.0', 'DOlocationID': '35.0'},\n {'PUlocationID': '-1.0', 'DOlocationID': '49.0'},\n {'PUlocationID': '-1.0', 'DOlocationID': '76.0'},\n {'PUlocationID': '-1.0', 'DOlocationID': '76.0'},\n {'PUlocationID': '-1.0', 'DOlocationID': '188.0'},\n {'PUlocationID': '-1.0', 'DOlocationID': '72.0'},\n {'PUlocationID': '-1.0', 'DOlocationID': '77.0'},\n {'PUlocationID': '-1.0', 'DOlocationID': '77.0'},\n {'PUlocationID': '-1.0', 'DOlocationID': '72.0'},\n {'PUlocationID': '-1.0', 'DOlocationID': '61.0'},\n {'PUlocationID': '-1.0', 'DOlocationID': '35.0'},\n {'PUlocationID': '-1.0', 'DOlocationID': '232.0'},\n {'PUlocationID': '-1.0', 'DOlocationID': '17.0'},\n {'PUlocationID': '-1.0', 'DOlocationID': '77.0'},\n {'PUlocationID': '-1.0', 'DOlocationID': '77.0'},\n {'PUlocationID': '-1.0', 'DOlocationID': '108.0'},\n {'PUlocationID': '-1.0', 'DOlocationID': '152.0'},\n {'PUlocationID': '-1.0', 'DOlocationID': '17.0'},\n {'PUlocationID': '-1.0', 'DOlocationID': '72.0'},\n {'PUlocationID': '-1.0', 'DOlocationID': '37.0'},\n {'PUlocationID': '-1.0', 'DOlocationID': '228.0'},\n {'PUlocationID': '-1.0', 'DOlocationID': '91.0'},\n {'PUlocationID': '-1.0', 'DOlocationID': '17.0'},\n {'PUlocationID': '-1.0', 'DOlocationID': '63.0'},\n {'PUlocationID': '-1.0', 'DOlocationID': '220.0'},\n {'PUlocationID': '-1.0', 'DOlocationID': '174.0'},\n {'PUlocationID': '-1.0', 'DOlocationID': '153.0'},\n {'PUlocationID': '-1.0', 'DOlocationID': '169.0'},\n {'PUlocationID': '-1.0', 'DOlocationID': '3.0'},\n {'PUlocationID': '-1.0', 'DOlocationID': '241.0'},\n {'PUlocationID': '-1.0', 'DOlocationID': '265.0'},\n {'PUlocationID': '-1.0', 'DOlocationID': '200.0'},\n {'PUlocationID': '-1.0', 'DOlocationID': '169.0'},\n {'PUlocationID': '-1.0', 'DOlocationID': '220.0'},\n {'PUlocationID': '-1.0', 'DOlocationID': '241.0'},\n {'PUlocationID': '-1.0', 'DOlocationID': '136.0'},\n {'PUlocationID': '-1.0', 'DOlocationID': '119.0'},\n {'PUlocationID': '-1.0', 'DOlocationID': '106.0'},\n {'PUlocationID': '-1.0', 'DOlocationID': '37.0'},\n {'PUlocationID': '-1.0', 'DOlocationID': '244.0'},\n {'PUlocationID': '-1.0', 'DOlocationID': '116.0'},\n {'PUlocationID': '-1.0', 'DOlocationID': '244.0'},\n {'PUlocationID': '-1.0', 'DOlocationID': '235.0'},\n {'PUlocationID': '-1.0', 'DOlocationID': '69.0'},\n {'PUlocationID': '-1.0', 'DOlocationID': '244.0'},\n {'PUlocationID': '-1.0', 'DOlocationID': '141.0'},\n {'PUlocationID': '-1.0', 'DOlocationID': '141.0'},\n {'PUlocationID': '-1.0', 'DOlocationID': '113.0'},\n {'PUlocationID': '-1.0', 'DOlocationID': '265.0'},\n {'PUlocationID': '129.0', 'DOlocationID': '129.0'},\n {'PUlocationID': '-1.0', 'DOlocationID': '196.0'},\n {'PUlocationID': '-1.0', 'DOlocationID': '132.0'},\n {'PUlocationID': '-1.0', 'DOlocationID': '10.0'},\n {'PUlocationID': '-1.0', 'DOlocationID': '134.0'},\n {'PUlocationID': '-1.0', 'DOlocationID': '134.0'},\n {'PUlocationID': '-1.0', 'DOlocationID': '197.0'},\n {'PUlocationID': '-1.0', 'DOlocationID': '197.0'},\n {'PUlocationID': '-1.0', 'DOlocationID': '28.0'},\n {'PUlocationID': '-1.0', 'DOlocationID': '129.0'},\n {'PUlocationID': '-1.0', 'DOlocationID': '258.0'},\n {'PUlocationID': '-1.0', 'DOlocationID': '197.0'},\n {'PUlocationID': '-1.0', 'DOlocationID': '63.0'},\n {'PUlocationID': '-1.0', 'DOlocationID': '258.0'},\n {'PUlocationID': '-1.0', 'DOlocationID': '102.0'},\n {'PUlocationID': '-1.0', 'DOlocationID': '130.0'},\n {'PUlocationID': '-1.0', 'DOlocationID': '167.0'},\n {'PUlocationID': '-1.0', 'DOlocationID': '136.0'},\n {'PUlocationID': '-1.0', 'DOlocationID': '94.0'},\n {'PUlocationID': '-1.0', 'DOlocationID': '152.0'},\n {'PUlocationID': '-1.0', 'DOlocationID': '3.0'},\n {'PUlocationID': '-1.0', 'DOlocationID': '235.0'},\n {'PUlocationID': '-1.0', 'DOlocationID': '136.0'},\n {'PUlocationID': '-1.0', 'DOlocationID': '76.0'},\n {'PUlocationID': '-1.0', 'DOlocationID': '35.0'},\n {'PUlocationID': '-1.0', 'DOlocationID': '76.0'},\n {'PUlocationID': '-1.0', 'DOlocationID': '235.0'},\n {'PUlocationID': '-1.0', 'DOlocationID': '119.0'},\n {'PUlocationID': '-1.0', 'DOlocationID': '235.0'},\n {'PUlocationID': '-1.0', 'DOlocationID': '213.0'},\n {'PUlocationID': '-1.0', 'DOlocationID': '243.0'},\n {'PUlocationID': '-1.0', 'DOlocationID': '18.0'},\n {'PUlocationID': '-1.0', 'DOlocationID': '60.0'},\n {'PUlocationID': '-1.0', 'DOlocationID': '243.0'},\n {'PUlocationID': '-1.0', 'DOlocationID': '244.0'},\n {'PUlocationID': '-1.0', 'DOlocationID': '18.0'},\n {'PUlocationID': '-1.0', 'DOlocationID': '76.0'},\n {'PUlocationID': '-1.0', 'DOlocationID': '76.0'},\n {'PUlocationID': '-1.0', 'DOlocationID': '147.0'},\n {'PUlocationID': '-1.0', 'DOlocationID': '89.0'},\n {'PUlocationID': '-1.0', 'DOlocationID': '76.0'},\n {'PUlocationID': '-1.0', 'DOlocationID': '254.0'},\n {'PUlocationID': '-1.0', 'DOlocationID': '47.0'},\n {'PUlocationID': '-1.0', 'DOlocationID': '169.0'},\n {'PUlocationID': '-1.0', 'DOlocationID': '32.0'},\n {'PUlocationID': '-1.0', 'DOlocationID': '126.0'},\n {'PUlocationID': '-1.0', 'DOlocationID': '167.0'},\n {'PUlocationID': '-1.0', 'DOlocationID': '147.0'},\n {'PUlocationID': '-1.0', 'DOlocationID': '259.0'},\n {'PUlocationID': '-1.0', 'DOlocationID': '248.0'},\n {'PUlocationID': '-1.0', 'DOlocationID': '213.0'},\n {'PUlocationID': '-1.0', 'DOlocationID': '213.0'},\n {'PUlocationID': '-1.0', 'DOlocationID': '213.0'},\n {'PUlocationID': '-1.0', 'DOlocationID': '213.0'},\n {'PUlocationID': '-1.0', 'DOlocationID': '213.0'},\n {'PUlocationID': '-1.0', 'DOlocationID': '47.0'},\n {'PUlocationID': '-1.0', 'DOlocationID': '32.0'},\n {'PUlocationID': '-1.0', 'DOlocationID': '119.0'},\n {'PUlocationID': '-1.0', 'DOlocationID': '147.0'},\n {'PUlocationID': '-1.0', 'DOlocationID': '198.0'},\n {'PUlocationID': '-1.0', 'DOlocationID': '60.0'},\n {'PUlocationID': '-1.0', 'DOlocationID': '244.0'},\n {'PUlocationID': '-1.0', 'DOlocationID': '116.0'},\n {'PUlocationID': '-1.0', 'DOlocationID': '116.0'},\n {'PUlocationID': '-1.0', 'DOlocationID': '244.0'},\n {'PUlocationID': '142.0', 'DOlocationID': '142.0'},\n {'PUlocationID': '142.0', 'DOlocationID': '200.0'},\n {'PUlocationID': '211.0', 'DOlocationID': '107.0'},\n {'PUlocationID': '-1.0', 'DOlocationID': '72.0'},\n {'PUlocationID': '-1.0', 'DOlocationID': '189.0'},\n {'PUlocationID': '-1.0', 'DOlocationID': '112.0'},\n {'PUlocationID': '-1.0', 'DOlocationID': '40.0'},\n {'PUlocationID': '-1.0', 'DOlocationID': '61.0'},\n {'PUlocationID': '-1.0', 'DOlocationID': '76.0'},\n {'PUlocationID': '-1.0', 'DOlocationID': '72.0'},\n {'PUlocationID': '-1.0', 'DOlocationID': '21.0'},\n {'PUlocationID': '-1.0', 'DOlocationID': '241.0'},\n {'PUlocationID': '-1.0', 'DOlocationID': '94.0'},\n {'PUlocationID': '-1.0', 'DOlocationID': '78.0'},\n {'PUlocationID': '-1.0', 'DOlocationID': '153.0'},\n {'PUlocationID': '-1.0', 'DOlocationID': '153.0'},\n {'PUlocationID': '-1.0', 'DOlocationID': '69.0'},\n {'PUlocationID': '-1.0', 'DOlocationID': '69.0'},\n {'PUlocationID': '-1.0', 'DOlocationID': '247.0'},\n {'PUlocationID': '-1.0', 'DOlocationID': '69.0'},\n {'PUlocationID': '-1.0', 'DOlocationID': '174.0'},\n {'PUlocationID': '-1.0', 'DOlocationID': '78.0'},\n {'PUlocationID': '-1.0', 'DOlocationID': '247.0'},\n {'PUlocationID': '-1.0', 'DOlocationID': '75.0'},\n {'PUlocationID': '-1.0', 'DOlocationID': '42.0'},\n {'PUlocationID': '-1.0', 'DOlocationID': '213.0'},\n {'PUlocationID': '-1.0', 'DOlocationID': '247.0'},\n {'PUlocationID': '-1.0', 'DOlocationID': '247.0'},\n {'PUlocationID': '-1.0', 'DOlocationID': '243.0'},\n {'PUlocationID': '-1.0', 'DOlocationID': '254.0'},\n {'PUlocationID': '-1.0', 'DOlocationID': '254.0'},\n {'PUlocationID': '-1.0', 'DOlocationID': '174.0'},\n {'PUlocationID': '-1.0', 'DOlocationID': '254.0'},\n {'PUlocationID': '-1.0', 'DOlocationID': '212.0'},\n {'PUlocationID': '-1.0', 'DOlocationID': '212.0'},\n {'PUlocationID': '-1.0', 'DOlocationID': '254.0'},\n {'PUlocationID': '-1.0', 'DOlocationID': '60.0'},\n {'PUlocationID': '-1.0', 'DOlocationID': '167.0'},\n {'PUlocationID': '-1.0', 'DOlocationID': '235.0'},\n {'PUlocationID': '-1.0', 'DOlocationID': '235.0'},\n {'PUlocationID': '-1.0', 'DOlocationID': '243.0'},\n {'PUlocationID': '-1.0', 'DOlocationID': '3.0'},\n {'PUlocationID': '-1.0', 'DOlocationID': '212.0'},\n {'PUlocationID': '-1.0', 'DOlocationID': '248.0'},\n {'PUlocationID': '-1.0', 'DOlocationID': '69.0'},\n {'PUlocationID': '-1.0', 'DOlocationID': '126.0'},\n {'PUlocationID': '-1.0', 'DOlocationID': '75.0'},\n {'PUlocationID': '-1.0', 'DOlocationID': '119.0'},\n {'PUlocationID': '-1.0', 'DOlocationID': '159.0'},\n {'PUlocationID': '-1.0', 'DOlocationID': '169.0'},\n {'PUlocationID': '-1.0', 'DOlocationID': '241.0'},\n {'PUlocationID': '-1.0', 'DOlocationID': '18.0'},\n {'PUlocationID': '-1.0', 'DOlocationID': '69.0'},\n {'PUlocationID': '-1.0', 'DOlocationID': '168.0'},\n {'PUlocationID': '-1.0', 'DOlocationID': '126.0'},\n {'PUlocationID': '-1.0', 'DOlocationID': '69.0'},\n {'PUlocationID': '-1.0', 'DOlocationID': '244.0'},\n {'PUlocationID': '-1.0', 'DOlocationID': '244.0'},\n {'PUlocationID': '-1.0', 'DOlocationID': '78.0'},\n {'PUlocationID': '-1.0', 'DOlocationID': '94.0'},\n {'PUlocationID': '-1.0', 'DOlocationID': '18.0'},\n {'PUlocationID': '-1.0', 'DOlocationID': '69.0'},\n {'PUlocationID': '-1.0', 'DOlocationID': '59.0'},\n {'PUlocationID': '-1.0', 'DOlocationID': '78.0'},\n {'PUlocationID': '-1.0', 'DOlocationID': '69.0'},\n {'PUlocationID': '-1.0', 'DOlocationID': '213.0'},\n {'PUlocationID': '-1.0', 'DOlocationID': '247.0'},\n {'PUlocationID': '-1.0', 'DOlocationID': '168.0'},\n {'PUlocationID': '-1.0', 'DOlocationID': '254.0'},\n {'PUlocationID': '-1.0', 'DOlocationID': '254.0'},\n {'PUlocationID': '-1.0', 'DOlocationID': '20.0'},\n {'PUlocationID': '-1.0', 'DOlocationID': '265.0'},\n {'PUlocationID': '-1.0', 'DOlocationID': '265.0'},\n {'PUlocationID': '-1.0', 'DOlocationID': '147.0'},\n {'PUlocationID': '-1.0', 'DOlocationID': '61.0'},\n {'PUlocationID': '-1.0', 'DOlocationID': '61.0'},\n {'PUlocationID': '-1.0', 'DOlocationID': '76.0'},\n {'PUlocationID': '-1.0', 'DOlocationID': '63.0'},\n {'PUlocationID': '-1.0', 'DOlocationID': '76.0'},\n {'PUlocationID': '-1.0', 'DOlocationID': '76.0'},\n {'PUlocationID': '-1.0', 'DOlocationID': '95.0'},\n {'PUlocationID': '-1.0', 'DOlocationID': '10.0'},\n {'PUlocationID': '-1.0', 'DOlocationID': '197.0'},\n {'PUlocationID': '-1.0', 'DOlocationID': '97.0'},\n {'PUlocationID': '-1.0', 'DOlocationID': '76.0'},\n {'PUlocationID': '-1.0', 'DOlocationID': '3.0'},\n {'PUlocationID': '-1.0', 'DOlocationID': '78.0'},\n {'PUlocationID': '-1.0', 'DOlocationID': '254.0'},\n {'PUlocationID': '-1.0', 'DOlocationID': '152.0'},\n {'PUlocationID': '-1.0', 'DOlocationID': '159.0'},\n {'PUlocationID': '-1.0', 'DOlocationID': '254.0'},\n {'PUlocationID': '-1.0', 'DOlocationID': '259.0'},\n {'PUlocationID': '-1.0', 'DOlocationID': '254.0'},\n {'PUlocationID': '-1.0', 'DOlocationID': '81.0'},\n {'PUlocationID': '-1.0', 'DOlocationID': '81.0'},\n {'PUlocationID': '-1.0', 'DOlocationID': '169.0'},\n {'PUlocationID': '-1.0', 'DOlocationID': '51.0'},\n {'PUlocationID': '-1.0', 'DOlocationID': '74.0'},\n {'PUlocationID': '-1.0', 'DOlocationID': '10.0'},\n {'PUlocationID': '-1.0', 'DOlocationID': '167.0'},\n {'PUlocationID': '-1.0', 'DOlocationID': '74.0'},\n {'PUlocationID': '-1.0', 'DOlocationID': '254.0'},\n {'PUlocationID': '-1.0', 'DOlocationID': '254.0'},\n {'PUlocationID': '-1.0', 'DOlocationID': '254.0'},\n {'PUlocationID': '-1.0', 'DOlocationID': '244.0'},\n {'PUlocationID': '-1.0', 'DOlocationID': '265.0'},\n {'PUlocationID': '-1.0', 'DOlocationID': '81.0'},\n {'PUlocationID': '-1.0', 'DOlocationID': '126.0'},\n {'PUlocationID': '-1.0', 'DOlocationID': '259.0'},\n {'PUlocationID': '-1.0', 'DOlocationID': '254.0'},\n {'PUlocationID': '-1.0', 'DOlocationID': '3.0'},\n {'PUlocationID': '-1.0', 'DOlocationID': '254.0'},\n {'PUlocationID': '-1.0', 'DOlocationID': '259.0'},\n {'PUlocationID': '-1.0', 'DOlocationID': '94.0'},\n {'PUlocationID': '-1.0', 'DOlocationID': '18.0'},\n {'PUlocationID': '-1.0', 'DOlocationID': '81.0'},\n {'PUlocationID': '-1.0', 'DOlocationID': '259.0'},\n {'PUlocationID': '-1.0', 'DOlocationID': '254.0'},\n {'PUlocationID': '-1.0', 'DOlocationID': '254.0'},\n {'PUlocationID': '-1.0', 'DOlocationID': '254.0'},\n {'PUlocationID': '-1.0', 'DOlocationID': '212.0'},\n {'PUlocationID': '-1.0', 'DOlocationID': '41.0'},\n {'PUlocationID': '-1.0', 'DOlocationID': '18.0'},\n {'PUlocationID': '-1.0', 'DOlocationID': '42.0'},\n {'PUlocationID': '-1.0', 'DOlocationID': '243.0'},\n {'PUlocationID': '-1.0', 'DOlocationID': '116.0'},\n {'PUlocationID': '-1.0', 'DOlocationID': '256.0'},\n {'PUlocationID': '-1.0', 'DOlocationID': '17.0'},\n {'PUlocationID': '-1.0', 'DOlocationID': '217.0'},\n {'PUlocationID': '-1.0', 'DOlocationID': '39.0'},\n {'PUlocationID': '-1.0', 'DOlocationID': '188.0'},\n {'PUlocationID': '-1.0', 'DOlocationID': '188.0'},\n {'PUlocationID': '-1.0', 'DOlocationID': '72.0'},\n {'PUlocationID': '-1.0', 'DOlocationID': '217.0'},\n {'PUlocationID': '-1.0', 'DOlocationID': '217.0'},\n {'PUlocationID': '-1.0', 'DOlocationID': '36.0'},\n {'PUlocationID': '-1.0', 'DOlocationID': '36.0'},\n {'PUlocationID': '-1.0', 'DOlocationID': '36.0'},\n {'PUlocationID': '-1.0', 'DOlocationID': '39.0'},\n {'PUlocationID': '-1.0', 'DOlocationID': '35.0'},\n {'PUlocationID': '-1.0', 'DOlocationID': '77.0'},\n {'PUlocationID': '-1.0', 'DOlocationID': '134.0'},\n {'PUlocationID': '-1.0', 'DOlocationID': '17.0'},\n {'PUlocationID': '-1.0', 'DOlocationID': '123.0'},\n {'PUlocationID': '-1.0', 'DOlocationID': '217.0'},\n {'PUlocationID': '-1.0', 'DOlocationID': '232.0'},\n {'PUlocationID': '-1.0', 'DOlocationID': '213.0'},\n {'PUlocationID': '-1.0', 'DOlocationID': '174.0'},\n {'PUlocationID': '-1.0', 'DOlocationID': '241.0'},\n {'PUlocationID': '-1.0', 'DOlocationID': '78.0'},\n {'PUlocationID': '-1.0', 'DOlocationID': '81.0'},\n {'PUlocationID': '-1.0', 'DOlocationID': '208.0'},\n {'PUlocationID': '-1.0', 'DOlocationID': '213.0'},\n {'PUlocationID': '-1.0', 'DOlocationID': '254.0'},\n {'PUlocationID': '-1.0', 'DOlocationID': '69.0'},\n {'PUlocationID': '-1.0', 'DOlocationID': '250.0'},\n {'PUlocationID': '-1.0', 'DOlocationID': '116.0'},\n {'PUlocationID': '-1.0', 'DOlocationID': '166.0'},\n {'PUlocationID': '-1.0', 'DOlocationID': '244.0'},\n {'PUlocationID': '-1.0', 'DOlocationID': '244.0'},\n {'PUlocationID': '-1.0', 'DOlocationID': '244.0'},\n {'PUlocationID': '-1.0', 'DOlocationID': '120.0'},\n {'PUlocationID': '-1.0', 'DOlocationID': '244.0'},\n {'PUlocationID': '-1.0', 'DOlocationID': '159.0'},\n {'PUlocationID': '-1.0', 'DOlocationID': '69.0'},\n {'PUlocationID': '-1.0', 'DOlocationID': '244.0'},\n {'PUlocationID': '-1.0', 'DOlocationID': '94.0'},\n {'PUlocationID': '-1.0', 'DOlocationID': '244.0'},\n {'PUlocationID': '-1.0', 'DOlocationID': '243.0'},\n {'PUlocationID': '-1.0', 'DOlocationID': '244.0'},\n {'PUlocationID': '-1.0', 'DOlocationID': '116.0'},\n {'PUlocationID': '-1.0', 'DOlocationID': '42.0'},\n {'PUlocationID': '-1.0', 'DOlocationID': '213.0'},\n {'PUlocationID': '-1.0', 'DOlocationID': '126.0'},\n {'PUlocationID': '-1.0', 'DOlocationID': '213.0'},\n {'PUlocationID': '-1.0', 'DOlocationID': '213.0'},\n {'PUlocationID': '-1.0', 'DOlocationID': '174.0'},\n {'PUlocationID': '-1.0', 'DOlocationID': '47.0'},\n {'PUlocationID': '-1.0', 'DOlocationID': '169.0'},\n {'PUlocationID': '-1.0', 'DOlocationID': '147.0'},\n {'PUlocationID': '-1.0', 'DOlocationID': '60.0'},\n {'PUlocationID': '-1.0', 'DOlocationID': '60.0'},\n {'PUlocationID': '-1.0', 'DOlocationID': '60.0'},\n {'PUlocationID': '72.0', 'DOlocationID': '72.0'},\n {'PUlocationID': '72.0', 'DOlocationID': '72.0'},\n {'PUlocationID': '-1.0', 'DOlocationID': '236.0'},\n {'PUlocationID': '-1.0', 'DOlocationID': '130.0'},\n {'PUlocationID': '-1.0', 'DOlocationID': '216.0'},\n {'PUlocationID': '-1.0', 'DOlocationID': '216.0'},\n {'PUlocationID': '-1.0', 'DOlocationID': '197.0'},\n {'PUlocationID': '-1.0', 'DOlocationID': '35.0'},\n {'PUlocationID': '-1.0', 'DOlocationID': '258.0'},\n {'PUlocationID': '-1.0', 'DOlocationID': '191.0'},\n {'PUlocationID': '-1.0', 'DOlocationID': '197.0'},\n {'PUlocationID': '-1.0', 'DOlocationID': '106.0'},\n {'PUlocationID': '-1.0', 'DOlocationID': '130.0'},\n {'PUlocationID': '-1.0', 'DOlocationID': '215.0'},\n {'PUlocationID': '-1.0', 'DOlocationID': '173.0'},\n {'PUlocationID': '-1.0', 'DOlocationID': '197.0'},\n {'PUlocationID': '-1.0', 'DOlocationID': '216.0'},\n {'PUlocationID': '-1.0', 'DOlocationID': '258.0'},\n {'PUlocationID': '-1.0', 'DOlocationID': '215.0'},\n {'PUlocationID': '-1.0', 'DOlocationID': '258.0'},\n {'PUlocationID': '-1.0', 'DOlocationID': '130.0'},\n {'PUlocationID': '-1.0', 'DOlocationID': '201.0'},\n {'PUlocationID': '-1.0', 'DOlocationID': '28.0'},\n {'PUlocationID': '-1.0', 'DOlocationID': '216.0'},\n {'PUlocationID': '-1.0', 'DOlocationID': '197.0'},\n {'PUlocationID': '-1.0', 'DOlocationID': '82.0'},\n {'PUlocationID': '-1.0', 'DOlocationID': '177.0'},\n {'PUlocationID': '-1.0', 'DOlocationID': '130.0'},\n {'PUlocationID': '-1.0', 'DOlocationID': '131.0'},\n {'PUlocationID': '-1.0', 'DOlocationID': '173.0'},\n {'PUlocationID': '-1.0', 'DOlocationID': '197.0'},\n {'PUlocationID': '-1.0', 'DOlocationID': '197.0'},\n {'PUlocationID': '-1.0', 'DOlocationID': '258.0'},\n {'PUlocationID': '-1.0', 'DOlocationID': '129.0'},\n {'PUlocationID': '-1.0', 'DOlocationID': '134.0'},\n {'PUlocationID': '-1.0', 'DOlocationID': '61.0'},\n {'PUlocationID': '-1.0', 'DOlocationID': '35.0'},\n {'PUlocationID': '-1.0', 'DOlocationID': '61.0'},\n {'PUlocationID': '-1.0', 'DOlocationID': '177.0'},\n {'PUlocationID': '-1.0', 'DOlocationID': '188.0'},\n {'PUlocationID': '-1.0', 'DOlocationID': '177.0'},\n {'PUlocationID': '-1.0', 'DOlocationID': '108.0'},\n {'PUlocationID': '-1.0', 'DOlocationID': '173.0'},\n {'PUlocationID': '-1.0', 'DOlocationID': '129.0'},\n {'PUlocationID': '-1.0', 'DOlocationID': '56.0'},\n {'PUlocationID': '-1.0', 'DOlocationID': '173.0'},\n {'PUlocationID': '-1.0', 'DOlocationID': '70.0'},\n {'PUlocationID': '-1.0', 'DOlocationID': '63.0'},\n {'PUlocationID': '-1.0', 'DOlocationID': '63.0'},\n {'PUlocationID': '-1.0', 'DOlocationID': '76.0'},\n {'PUlocationID': '-1.0', 'DOlocationID': '197.0'},\n {'PUlocationID': '-1.0', 'DOlocationID': '72.0'},\n {'PUlocationID': '-1.0', 'DOlocationID': '35.0'},\n {'PUlocationID': '-1.0', 'DOlocationID': '-1.0'},\n {'PUlocationID': '-1.0', 'DOlocationID': '169.0'},\n {'PUlocationID': '-1.0', 'DOlocationID': '-1.0'},\n {'PUlocationID': '-1.0', 'DOlocationID': '69.0'},\n {'PUlocationID': '-1.0', 'DOlocationID': '136.0'},\n {'PUlocationID': '-1.0', 'DOlocationID': '244.0'},\n {'PUlocationID': '-1.0', 'DOlocationID': '243.0'},\n {'PUlocationID': '-1.0', 'DOlocationID': '243.0'},\n {'PUlocationID': '-1.0', 'DOlocationID': '244.0'},\n {'PUlocationID': '-1.0', 'DOlocationID': '244.0'},\n {'PUlocationID': '-1.0', 'DOlocationID': '213.0'},\n {'PUlocationID': '-1.0', 'DOlocationID': '127.0'},\n {'PUlocationID': '-1.0', 'DOlocationID': '94.0'},\n {'PUlocationID': '-1.0', 'DOlocationID': '18.0'},\n {'PUlocationID': '-1.0', 'DOlocationID': '10.0'},\n {'PUlocationID': '-1.0', 'DOlocationID': '216.0'},\n {'PUlocationID': '-1.0', 'DOlocationID': '63.0'},\n {'PUlocationID': '-1.0', 'DOlocationID': '215.0'},\n {'PUlocationID': '129.0', 'DOlocationID': '56.0'},\n {'PUlocationID': '-1.0', 'DOlocationID': '26.0'},\n {'PUlocationID': '-1.0', 'DOlocationID': '227.0'},\n {'PUlocationID': '-1.0', 'DOlocationID': '26.0'},\n {'PUlocationID': '-1.0', 'DOlocationID': '67.0'},\n {'PUlocationID': '-1.0', 'DOlocationID': '14.0'},\n {'PUlocationID': '-1.0', 'DOlocationID': '67.0'},\n {'PUlocationID': '-1.0', 'DOlocationID': '22.0'},\n {'PUlocationID': '-1.0', 'DOlocationID': '130.0'},\n {'PUlocationID': '-1.0', 'DOlocationID': '223.0'},\n {'PUlocationID': '-1.0', 'DOlocationID': '130.0'},\n {'PUlocationID': '-1.0', 'DOlocationID': '130.0'},\n {'PUlocationID': '-1.0', 'DOlocationID': '155.0'},\n {'PUlocationID': '-1.0', 'DOlocationID': '130.0'},\n {'PUlocationID': '-1.0', 'DOlocationID': '197.0'},\n {'PUlocationID': '-1.0', 'DOlocationID': '10.0'},\n {'PUlocationID': '-1.0', 'DOlocationID': '120.0'},\n {'PUlocationID': '-1.0', 'DOlocationID': '47.0'},\n {'PUlocationID': '-1.0', 'DOlocationID': '116.0'},\n {'PUlocationID': '-1.0', 'DOlocationID': '47.0'},\n {'PUlocationID': '-1.0', 'DOlocationID': '247.0'},\n {'PUlocationID': '-1.0', 'DOlocationID': '119.0'},\n {'PUlocationID': '-1.0', 'DOlocationID': '259.0'},\n {'PUlocationID': '-1.0', 'DOlocationID': '116.0'},\n {'PUlocationID': '-1.0', 'DOlocationID': '93.0'},\n {'PUlocationID': '-1.0', 'DOlocationID': '92.0'},\n {'PUlocationID': '-1.0', 'DOlocationID': '129.0'},\n {'PUlocationID': '-1.0', 'DOlocationID': '196.0'},\n {'PUlocationID': '-1.0', 'DOlocationID': '170.0'},\n {'PUlocationID': '-1.0', 'DOlocationID': '93.0'},\n {'PUlocationID': '-1.0', 'DOlocationID': '129.0'},\n {'PUlocationID': '-1.0', 'DOlocationID': '232.0'},\n {'PUlocationID': '-1.0', 'DOlocationID': '121.0'},\n {'PUlocationID': '-1.0', 'DOlocationID': '260.0'},\n {'PUlocationID': '-1.0', 'DOlocationID': '254.0'},\n {'PUlocationID': '-1.0', 'DOlocationID': '41.0'},\n {'PUlocationID': '-1.0', 'DOlocationID': '235.0'},\n {'PUlocationID': '-1.0', 'DOlocationID': '18.0'},\n {'PUlocationID': '-1.0', 'DOlocationID': '235.0'},\n {'PUlocationID': '-1.0', 'DOlocationID': '127.0'},\n {'PUlocationID': '-1.0', 'DOlocationID': '18.0'},\n {'PUlocationID': '-1.0', 'DOlocationID': '169.0'},\n {'PUlocationID': '-1.0', 'DOlocationID': '248.0'},\n {'PUlocationID': '-1.0', 'DOlocationID': '235.0'},\n {'PUlocationID': '-1.0', 'DOlocationID': '244.0'},\n {'PUlocationID': '-1.0', 'DOlocationID': '127.0'},\n {'PUlocationID': '-1.0', 'DOlocationID': '247.0'},\n {'PUlocationID': '-1.0', 'DOlocationID': '235.0'},\n {'PUlocationID': '-1.0', 'DOlocationID': '250.0'},\n {'PUlocationID': '-1.0', 'DOlocationID': '169.0'},\n {'PUlocationID': '-1.0', 'DOlocationID': '235.0'},\n {'PUlocationID': '-1.0', 'DOlocationID': '254.0'},\n {'PUlocationID': '-1.0', 'DOlocationID': '78.0'},\n {'PUlocationID': '-1.0', 'DOlocationID': '60.0'},\n {'PUlocationID': '-1.0', 'DOlocationID': '244.0'},\n {'PUlocationID': '-1.0', 'DOlocationID': '169.0'},\n {'PUlocationID': '-1.0', 'DOlocationID': '220.0'},\n {'PUlocationID': '-1.0', 'DOlocationID': '18.0'},\n {'PUlocationID': '-1.0', 'DOlocationID': '244.0'},\n {'PUlocationID': '-1.0', 'DOlocationID': '244.0'},\n {'PUlocationID': '-1.0', 'DOlocationID': '165.0'},\n {'PUlocationID': '-1.0', 'DOlocationID': '235.0'},\n {'PUlocationID': '-1.0', 'DOlocationID': '94.0'},\n {'PUlocationID': '-1.0', 'DOlocationID': '56.0'},\n {'PUlocationID': '-1.0', 'DOlocationID': '21.0'},\n {'PUlocationID': '-1.0', 'DOlocationID': '82.0'},\n {'PUlocationID': '-1.0', 'DOlocationID': '152.0'},\n {'PUlocationID': '-1.0', 'DOlocationID': '119.0'},\n {'PUlocationID': '-1.0', 'DOlocationID': '235.0'},\n {'PUlocationID': '-1.0', 'DOlocationID': '152.0'},\n {'PUlocationID': '-1.0', 'DOlocationID': '42.0'},\n {'PUlocationID': '-1.0', 'DOlocationID': '159.0'},\n {'PUlocationID': '-1.0', 'DOlocationID': '168.0'},\n {'PUlocationID': '-1.0', 'DOlocationID': '213.0'},\n {'PUlocationID': '-1.0', 'DOlocationID': '159.0'},\n {'PUlocationID': '-1.0', 'DOlocationID': '247.0'},\n {'PUlocationID': '-1.0', 'DOlocationID': '167.0'},\n {'PUlocationID': '-1.0', 'DOlocationID': '42.0'},\n {'PUlocationID': '-1.0', 'DOlocationID': '-1.0'},\n {'PUlocationID': '-1.0', 'DOlocationID': '-1.0'},\n {'PUlocationID': '-1.0', 'DOlocationID': '-1.0'},\n {'PUlocationID': '-1.0', 'DOlocationID': '202.0'},\n {'PUlocationID': '-1.0', 'DOlocationID': '-1.0'},\n {'PUlocationID': '-1.0', 'DOlocationID': '-1.0'},\n {'PUlocationID': '-1.0', 'DOlocationID': '-1.0'},\n {'PUlocationID': '-1.0', 'DOlocationID': '97.0'},\n {'PUlocationID': '-1.0', 'DOlocationID': '63.0'},\n {'PUlocationID': '-1.0', 'DOlocationID': '35.0'},\n {'PUlocationID': '-1.0', 'DOlocationID': '61.0'},\n {'PUlocationID': '-1.0', 'DOlocationID': '228.0'},\n {'PUlocationID': '-1.0', 'DOlocationID': '61.0'},\n {'PUlocationID': '-1.0', 'DOlocationID': '35.0'},\n {'PUlocationID': '-1.0', 'DOlocationID': '77.0'},\n {'PUlocationID': '-1.0', 'DOlocationID': '192.0'},\n {'PUlocationID': '129.0', 'DOlocationID': '76.0'},\n {'PUlocationID': '56.0', 'DOlocationID': '70.0'},\n {'PUlocationID': '226.0', 'DOlocationID': '226.0'},\n {'PUlocationID': '173.0', 'DOlocationID': '173.0'},\n {'PUlocationID': '129.0', 'DOlocationID': '129.0'},\n {'PUlocationID': '56.0', 'DOlocationID': '173.0'},\n {'PUlocationID': '129.0', 'DOlocationID': '260.0'},\n {'PUlocationID': '56.0', 'DOlocationID': '56.0'},\n {'PUlocationID': '-1.0', 'DOlocationID': '-1.0'},\n {'PUlocationID': '-1.0', 'DOlocationID': '126.0'},\n {'PUlocationID': '-1.0', 'DOlocationID': '167.0'},\n {'PUlocationID': '-1.0', 'DOlocationID': '247.0'},\n {'PUlocationID': '92.0', 'DOlocationID': '56.0'},\n {'PUlocationID': '92.0', 'DOlocationID': '92.0'},\n {'PUlocationID': '92.0', 'DOlocationID': '92.0'},\n {'PUlocationID': '73.0', 'DOlocationID': '227.0'},\n {'PUlocationID': '51.0', 'DOlocationID': '171.0'},\n {'PUlocationID': '-1.0', 'DOlocationID': '21.0'},\n {'PUlocationID': '-1.0', 'DOlocationID': '22.0'},\n {'PUlocationID': '-1.0', 'DOlocationID': '21.0'},\n {'PUlocationID': '-1.0', 'DOlocationID': '21.0'},\n {'PUlocationID': '-1.0', 'DOlocationID': '108.0'},\n {'PUlocationID': '-1.0', 'DOlocationID': '21.0'},\n {'PUlocationID': '-1.0', 'DOlocationID': '21.0'},\n {'PUlocationID': '-1.0', 'DOlocationID': '107.0'},\n {'PUlocationID': '-1.0', 'DOlocationID': '188.0'},\n {'PUlocationID': '-1.0', 'DOlocationID': '63.0'},\n {'PUlocationID': '-1.0', 'DOlocationID': '265.0'},\n {'PUlocationID': '-1.0', 'DOlocationID': '227.0'},\n {'PUlocationID': '-1.0', 'DOlocationID': '14.0'},\n {'PUlocationID': '-1.0', 'DOlocationID': '247.0'},\n {'PUlocationID': '-1.0', 'DOlocationID': '228.0'},\n {'PUlocationID': '-1.0', 'DOlocationID': '155.0'},\n {'PUlocationID': '-1.0', 'DOlocationID': '76.0'},\n {'PUlocationID': '-1.0', 'DOlocationID': '35.0'},\n {'PUlocationID': '-1.0', 'DOlocationID': '178.0'},\n {'PUlocationID': '-1.0', 'DOlocationID': '-1.0'},\n {'PUlocationID': '-1.0', 'DOlocationID': '-1.0'},\n {'PUlocationID': '-1.0', 'DOlocationID': '228.0'},\n {'PUlocationID': '-1.0', 'DOlocationID': '35.0'},\n {'PUlocationID': '-1.0', 'DOlocationID': '71.0'},\n {'PUlocationID': '-1.0', 'DOlocationID': '72.0'},\n {'PUlocationID': '-1.0', 'DOlocationID': '188.0'},\n {'PUlocationID': '-1.0', 'DOlocationID': '-1.0'},\n {'PUlocationID': '55.0', 'DOlocationID': '-1.0'},\n {'PUlocationID': '55.0', 'DOlocationID': '-1.0'},\n {'PUlocationID': '123.0', 'DOlocationID': '-1.0'},\n {'PUlocationID': '150.0', 'DOlocationID': '-1.0'},\n {'PUlocationID': '-1.0', 'DOlocationID': '18.0'},\n {'PUlocationID': '-1.0', 'DOlocationID': '200.0'},\n {'PUlocationID': '-1.0', 'DOlocationID': '168.0'},\n {'PUlocationID': '-1.0', 'DOlocationID': '235.0'},\n {'PUlocationID': '-1.0', 'DOlocationID': '168.0'},\n {'PUlocationID': '-1.0', 'DOlocationID': '243.0'},\n {'PUlocationID': '-1.0', 'DOlocationID': '243.0'},\n {'PUlocationID': '-1.0', 'DOlocationID': '177.0'},\n {'PUlocationID': '210.0', 'DOlocationID': '-1.0'},\n {'PUlocationID': '123.0', 'DOlocationID': '-1.0'},\n {'PUlocationID': '210.0', 'DOlocationID': '-1.0'},\n {'PUlocationID': '21.0', 'DOlocationID': '-1.0'},\n {'PUlocationID': '-1.0', 'DOlocationID': '119.0'},\n {'PUlocationID': '-1.0', 'DOlocationID': '69.0'},\n {'PUlocationID': '-1.0', 'DOlocationID': '235.0'},\n {'PUlocationID': '-1.0', 'DOlocationID': '169.0'},\n {'PUlocationID': '-1.0', 'DOlocationID': '119.0'},\n {'PUlocationID': '-1.0', 'DOlocationID': '119.0'},\n {'PUlocationID': '-1.0', 'DOlocationID': '20.0'},\n {'PUlocationID': '-1.0', 'DOlocationID': '235.0'},\n {'PUlocationID': '-1.0', 'DOlocationID': '168.0'},\n {'PUlocationID': '-1.0', 'DOlocationID': '198.0'},\n {'PUlocationID': '-1.0', 'DOlocationID': '93.0'},\n {'PUlocationID': '-1.0', 'DOlocationID': '76.0'},\n {'PUlocationID': '-1.0', 'DOlocationID': '198.0'},\n {'PUlocationID': '-1.0', 'DOlocationID': '76.0'},\n {'PUlocationID': '-1.0', 'DOlocationID': '225.0'},\n {'PUlocationID': '-1.0', 'DOlocationID': '102.0'},\n {'PUlocationID': '-1.0', 'DOlocationID': '56.0'},\n {'PUlocationID': '-1.0', 'DOlocationID': '198.0'},\n {'PUlocationID': '-1.0', 'DOlocationID': '235.0'},\n {'PUlocationID': '-1.0', 'DOlocationID': '94.0'},\n {'PUlocationID': '-1.0', 'DOlocationID': '147.0'},\n {'PUlocationID': '-1.0', 'DOlocationID': '147.0'},\n {'PUlocationID': '-1.0', 'DOlocationID': '47.0'},\n {'PUlocationID': '-1.0', 'DOlocationID': '32.0'},\n {'PUlocationID': '-1.0', 'DOlocationID': '74.0'},\n {'PUlocationID': '-1.0', 'DOlocationID': '167.0'},\n {'PUlocationID': '-1.0', 'DOlocationID': '169.0'},\n {'PUlocationID': '-1.0', 'DOlocationID': '74.0'},\n {'PUlocationID': '-1.0', 'DOlocationID': '168.0'},\n {'PUlocationID': '-1.0', 'DOlocationID': '41.0'},\n {'PUlocationID': '-1.0', 'DOlocationID': '42.0'},\n {'PUlocationID': '-1.0', 'DOlocationID': '168.0'},\n {'PUlocationID': '-1.0', 'DOlocationID': '254.0'},\n {'PUlocationID': '-1.0', 'DOlocationID': '208.0'},\n {'PUlocationID': '-1.0', 'DOlocationID': '20.0'},\n {'PUlocationID': '-1.0', 'DOlocationID': '94.0'},\n {'PUlocationID': '-1.0', 'DOlocationID': '254.0'},\n {'PUlocationID': '221.0', 'DOlocationID': '245.0'},\n {'PUlocationID': '245.0', 'DOlocationID': '221.0'},\n {'PUlocationID': '221.0', 'DOlocationID': '115.0'},\n {'PUlocationID': '115.0', 'DOlocationID': '206.0'},\n {'PUlocationID': '-1.0', 'DOlocationID': '60.0'},\n {'PUlocationID': '-1.0', 'DOlocationID': '41.0'},\n {'PUlocationID': '-1.0', 'DOlocationID': '168.0'},\n {'PUlocationID': '-1.0', 'DOlocationID': '74.0'},\n {'PUlocationID': '-1.0', 'DOlocationID': '159.0'},\n {'PUlocationID': '-1.0', 'DOlocationID': '81.0'},\n {'PUlocationID': '-1.0', 'DOlocationID': '259.0'},\n {'PUlocationID': '-1.0', 'DOlocationID': '74.0'},\n {'PUlocationID': '-1.0', 'DOlocationID': '10.0'},\n {'PUlocationID': '-1.0', 'DOlocationID': '167.0'},\n {'PUlocationID': '-1.0', 'DOlocationID': '74.0'},\n {'PUlocationID': '-1.0', 'DOlocationID': '254.0'},\n {'PUlocationID': '-1.0', 'DOlocationID': '254.0'},\n {'PUlocationID': '-1.0', 'DOlocationID': '244.0'},\n {'PUlocationID': '-1.0', 'DOlocationID': '81.0'},\n {'PUlocationID': '-1.0', 'DOlocationID': '126.0'},\n {'PUlocationID': '-1.0', 'DOlocationID': '259.0'},\n {'PUlocationID': '-1.0', 'DOlocationID': '254.0'},\n {'PUlocationID': '-1.0', 'DOlocationID': '3.0'},\n {'PUlocationID': '-1.0', 'DOlocationID': '254.0'},\n {'PUlocationID': '-1.0', 'DOlocationID': '259.0'},\n {'PUlocationID': '-1.0', 'DOlocationID': '94.0'},\n {'PUlocationID': '-1.0', 'DOlocationID': '18.0'},\n {'PUlocationID': '-1.0', 'DOlocationID': '81.0'},\n {'PUlocationID': '-1.0', 'DOlocationID': '259.0'},\n {'PUlocationID': '-1.0', 'DOlocationID': '-1.0'},\n {'PUlocationID': '-1.0', 'DOlocationID': '17.0'},\n {'PUlocationID': '-1.0', 'DOlocationID': '61.0'},\n {'PUlocationID': '-1.0', 'DOlocationID': '177.0'},\n {'PUlocationID': '-1.0', 'DOlocationID': '188.0'},\n {'PUlocationID': '-1.0', 'DOlocationID': '17.0'},\n {'PUlocationID': '-1.0', 'DOlocationID': '61.0'},\n {'PUlocationID': '-1.0', 'DOlocationID': '49.0'},\n {'PUlocationID': '-1.0', 'DOlocationID': '71.0'},\n {'PUlocationID': '-1.0', 'DOlocationID': '177.0'},\n {'PUlocationID': '-1.0', 'DOlocationID': '10.0'},\n {'PUlocationID': '-1.0', 'DOlocationID': '61.0'},\n {'PUlocationID': '-1.0', 'DOlocationID': '72.0'},\n {'PUlocationID': '-1.0', 'DOlocationID': '62.0'},\n {'PUlocationID': '-1.0', 'DOlocationID': '39.0'},\n {'PUlocationID': '-1.0', 'DOlocationID': '228.0'},\n {'PUlocationID': '-1.0', 'DOlocationID': '17.0'},\n {'PUlocationID': '-1.0', 'DOlocationID': '97.0'},\n {'PUlocationID': '-1.0', 'DOlocationID': '35.0'},\n {'PUlocationID': '-1.0', 'DOlocationID': '188.0'},\n {'PUlocationID': '-1.0', 'DOlocationID': '225.0'},\n {'PUlocationID': '-1.0', 'DOlocationID': '61.0'},\n {'PUlocationID': '-1.0', 'DOlocationID': '76.0'},\n {'PUlocationID': '-1.0', 'DOlocationID': '77.0'},\n {'PUlocationID': '-1.0', 'DOlocationID': '63.0'},\n {'PUlocationID': '-1.0', 'DOlocationID': '177.0'},\n {'PUlocationID': '-1.0', 'DOlocationID': '61.0'},\n {'PUlocationID': '-1.0', 'DOlocationID': '61.0'},\n {'PUlocationID': '-1.0', 'DOlocationID': '61.0'},\n {'PUlocationID': '-1.0', 'DOlocationID': '39.0'},\n {'PUlocationID': '-1.0', 'DOlocationID': '233.0'},\n {'PUlocationID': '-1.0', 'DOlocationID': '85.0'},\n {'PUlocationID': '-1.0', 'DOlocationID': '17.0'},\n {'PUlocationID': '-1.0', 'DOlocationID': '49.0'},\n {'PUlocationID': '-1.0', 'DOlocationID': '123.0'},\n {'PUlocationID': '-1.0', 'DOlocationID': '71.0'},\n {'PUlocationID': '-1.0', 'DOlocationID': '61.0'},\n {'PUlocationID': '-1.0', 'DOlocationID': '61.0'},\n {'PUlocationID': '-1.0', 'DOlocationID': '77.0'},\n {'PUlocationID': '-1.0', 'DOlocationID': '225.0'},\n {'PUlocationID': '-1.0', 'DOlocationID': '35.0'},\n {'PUlocationID': '-1.0', 'DOlocationID': '225.0'},\n {'PUlocationID': '-1.0', 'DOlocationID': '17.0'},\n {'PUlocationID': '-1.0', 'DOlocationID': '61.0'},\n {'PUlocationID': '-1.0', 'DOlocationID': '61.0'},\n {'PUlocationID': '-1.0', 'DOlocationID': '177.0'},\n {'PUlocationID': '-1.0', 'DOlocationID': '61.0'},\n {'PUlocationID': '-1.0', 'DOlocationID': '17.0'},\n {'PUlocationID': '-1.0', 'DOlocationID': '37.0'},\n {'PUlocationID': '-1.0', 'DOlocationID': '122.0'},\n {'PUlocationID': '-1.0', 'DOlocationID': '76.0'},\n {'PUlocationID': '-1.0', 'DOlocationID': '71.0'},\n {'PUlocationID': '-1.0', 'DOlocationID': '72.0'},\n {'PUlocationID': '-1.0', 'DOlocationID': '62.0'},\n {'PUlocationID': '-1.0', 'DOlocationID': '225.0'},\n {'PUlocationID': '-1.0', 'DOlocationID': '35.0'},\n {'PUlocationID': '-1.0', 'DOlocationID': '17.0'},\n {'PUlocationID': '-1.0', 'DOlocationID': '85.0'},\n {'PUlocationID': '-1.0', 'DOlocationID': '35.0'},\n {'PUlocationID': '-1.0', 'DOlocationID': '61.0'},\n {'PUlocationID': '-1.0', 'DOlocationID': '225.0'},\n {'PUlocationID': '-1.0', 'DOlocationID': '76.0'},\n {'PUlocationID': '-1.0', 'DOlocationID': '225.0'},\n {'PUlocationID': '-1.0', 'DOlocationID': '25.0'},\n {'PUlocationID': '-1.0', 'DOlocationID': '61.0'},\n {'PUlocationID': '-1.0', 'DOlocationID': '61.0'},\n {'PUlocationID': '-1.0', 'DOlocationID': '91.0'},\n {'PUlocationID': '-1.0', 'DOlocationID': '72.0'},\n {'PUlocationID': '-1.0', 'DOlocationID': '133.0'},\n {'PUlocationID': '-1.0', 'DOlocationID': '228.0'},\n {'PUlocationID': '-1.0', 'DOlocationID': '228.0'},\n {'PUlocationID': '-1.0', 'DOlocationID': '227.0'},\n {'PUlocationID': '-1.0', 'DOlocationID': '228.0'},\n {'PUlocationID': '-1.0', 'DOlocationID': '22.0'},\n {'PUlocationID': '-1.0', 'DOlocationID': '39.0'},\n {'PUlocationID': '-1.0', 'DOlocationID': '14.0'},\n {'PUlocationID': '-1.0', 'DOlocationID': '22.0'},\n {'PUlocationID': '-1.0', 'DOlocationID': '22.0'},\n {'PUlocationID': '-1.0', 'DOlocationID': '22.0'},\n {'PUlocationID': '-1.0', 'DOlocationID': '17.0'},\n {'PUlocationID': '-1.0', 'DOlocationID': '17.0'},\n {'PUlocationID': '-1.0', 'DOlocationID': '17.0'},\n {'PUlocationID': '-1.0', 'DOlocationID': '80.0'},\n {'PUlocationID': '-1.0', 'DOlocationID': '173.0'},\n {'PUlocationID': '-1.0', 'DOlocationID': '173.0'},\n {'PUlocationID': '-1.0', 'DOlocationID': '146.0'},\n {'PUlocationID': '-1.0', 'DOlocationID': '56.0'},\n {'PUlocationID': '-1.0', 'DOlocationID': '20.0'},\n {'PUlocationID': '-1.0', 'DOlocationID': '198.0'},\n {'PUlocationID': '-1.0', 'DOlocationID': '36.0'},\n {'PUlocationID': '-1.0', 'DOlocationID': '63.0'},\n {'PUlocationID': '-1.0', 'DOlocationID': '216.0'},\n {'PUlocationID': '-1.0', 'DOlocationID': '173.0'},\n {'PUlocationID': '-1.0', 'DOlocationID': '173.0'},\n {'PUlocationID': '-1.0', 'DOlocationID': '61.0'},\n {'PUlocationID': '-1.0', 'DOlocationID': '85.0'},\n {'PUlocationID': '-1.0', 'DOlocationID': '72.0'},\n {'PUlocationID': '-1.0', 'DOlocationID': '47.0'},\n {'PUlocationID': '-1.0', 'DOlocationID': '47.0'},\n {'PUlocationID': '-1.0', 'DOlocationID': '63.0'},\n {'PUlocationID': '-1.0', 'DOlocationID': '129.0'},\n {'PUlocationID': '-1.0', 'DOlocationID': '177.0'},\n {'PUlocationID': '-1.0', 'DOlocationID': '61.0'},\n {'PUlocationID': '-1.0', 'DOlocationID': '198.0'},\n {'PUlocationID': '-1.0', 'DOlocationID': '18.0'},\n {'PUlocationID': '-1.0', 'DOlocationID': '182.0'},\n {'PUlocationID': '-1.0', 'DOlocationID': '18.0'},\n {'PUlocationID': '-1.0', 'DOlocationID': '47.0'},\n {'PUlocationID': '-1.0', 'DOlocationID': '169.0'},\n {'PUlocationID': '-1.0', 'DOlocationID': '78.0'},\n {'PUlocationID': '-1.0', 'DOlocationID': '60.0'},\n {'PUlocationID': '-1.0', 'DOlocationID': '74.0'},\n {'PUlocationID': '-1.0', 'DOlocationID': '10.0'},\n {'PUlocationID': '-1.0', 'DOlocationID': '265.0'},\n {'PUlocationID': '-1.0', 'DOlocationID': '81.0'},\n {'PUlocationID': '-1.0', 'DOlocationID': '254.0'},\n {'PUlocationID': '-1.0', 'DOlocationID': '167.0'},\n {'PUlocationID': '-1.0', 'DOlocationID': '74.0'},\n {'PUlocationID': '-1.0', 'DOlocationID': '254.0'},\n {'PUlocationID': '-1.0', 'DOlocationID': '254.0'},\n {'PUlocationID': '-1.0', 'DOlocationID': '244.0'},\n {'PUlocationID': '-1.0', 'DOlocationID': '51.0'},\n {'PUlocationID': '-1.0', 'DOlocationID': '174.0'},\n {'PUlocationID': '-1.0', 'DOlocationID': '259.0'},\n {'PUlocationID': '-1.0', 'DOlocationID': '81.0'},\n {'PUlocationID': '-1.0', 'DOlocationID': '126.0'},\n {'PUlocationID': '-1.0', 'DOlocationID': '259.0'},\n {'PUlocationID': '-1.0', 'DOlocationID': '254.0'},\n {'PUlocationID': '-1.0', 'DOlocationID': '3.0'},\n {'PUlocationID': '-1.0', 'DOlocationID': '254.0'},\n {'PUlocationID': '-1.0', 'DOlocationID': '215.0'},\n {'PUlocationID': '-1.0', 'DOlocationID': '265.0'},\n {'PUlocationID': '-1.0', 'DOlocationID': '254.0'},\n {'PUlocationID': '-1.0', 'DOlocationID': '259.0'},\n {'PUlocationID': '-1.0', 'DOlocationID': '94.0'},\n {'PUlocationID': '-1.0', 'DOlocationID': '18.0'},\n {'PUlocationID': '-1.0', 'DOlocationID': '81.0'},\n {'PUlocationID': '-1.0', 'DOlocationID': '259.0'},\n {'PUlocationID': '-1.0', 'DOlocationID': '76.0'},\n {'PUlocationID': '-1.0', 'DOlocationID': '228.0'},\n {'PUlocationID': '-1.0', 'DOlocationID': '14.0'},\n {'PUlocationID': '-1.0', 'DOlocationID': '22.0'},\n {'PUlocationID': '115.0', 'DOlocationID': '245.0'},\n {'PUlocationID': '245.0', 'DOlocationID': '221.0'},\n {'PUlocationID': '221.0', 'DOlocationID': '115.0'},\n {'PUlocationID': '115.0', 'DOlocationID': '206.0'},\n {'PUlocationID': '221.0', 'DOlocationID': '214.0'},\n {'PUlocationID': '221.0', 'DOlocationID': '206.0'},\n {'PUlocationID': '115.0', 'DOlocationID': '245.0'},\n {'PUlocationID': '115.0', 'DOlocationID': '115.0'},\n {'PUlocationID': '221.0', 'DOlocationID': '206.0'},\n {'PUlocationID': '206.0', 'DOlocationID': '156.0'},\n {'PUlocationID': '-1.0', 'DOlocationID': '37.0'},\n {'PUlocationID': '-1.0', 'DOlocationID': '198.0'},\n {'PUlocationID': '-1.0', 'DOlocationID': '177.0'},\n {'PUlocationID': '-1.0', 'DOlocationID': '225.0'},\n {'PUlocationID': '-1.0', 'DOlocationID': '63.0'},\n {'PUlocationID': '-1.0', 'DOlocationID': '149.0'},\n {'PUlocationID': '-1.0', 'DOlocationID': '108.0'},\n {'PUlocationID': '-1.0', 'DOlocationID': '210.0'},\n {'PUlocationID': '-1.0', 'DOlocationID': '89.0'},\n {'PUlocationID': '-1.0', 'DOlocationID': '89.0'},\n {'PUlocationID': '-1.0', 'DOlocationID': '123.0'},\n {'PUlocationID': '-1.0', 'DOlocationID': '-1.0'},\n {'PUlocationID': '-1.0', 'DOlocationID': '-1.0'},\n {'PUlocationID': '-1.0', 'DOlocationID': '159.0'},\n {'PUlocationID': '-1.0', 'DOlocationID': '168.0'},\n {'PUlocationID': '-1.0', 'DOlocationID': '159.0'},\n {'PUlocationID': '-1.0', 'DOlocationID': '168.0'},\n {'PUlocationID': '-1.0', 'DOlocationID': '173.0'},\n {'PUlocationID': '-1.0', 'DOlocationID': '129.0'},\n {'PUlocationID': '-1.0', 'DOlocationID': '56.0'},\n {'PUlocationID': '-1.0', 'DOlocationID': '173.0'},\n {'PUlocationID': '-1.0', 'DOlocationID': '70.0'},\n {'PUlocationID': '-1.0', 'DOlocationID': '168.0'},\n {'PUlocationID': '-1.0', 'DOlocationID': '169.0'},\n {'PUlocationID': '-1.0', 'DOlocationID': '17.0'},\n {'PUlocationID': '-1.0', 'DOlocationID': '36.0'},\n {'PUlocationID': '-1.0', 'DOlocationID': '173.0'},\n {'PUlocationID': '-1.0', 'DOlocationID': '70.0'},\n {'PUlocationID': '223.0', 'DOlocationID': '223.0'},\n {'PUlocationID': '7.0', 'DOlocationID': '7.0'},\n {'PUlocationID': '17.0', 'DOlocationID': '206.0'},\n {'PUlocationID': '132.0', 'DOlocationID': '231.0'},\n {'PUlocationID': '-1.0', 'DOlocationID': '188.0'},\n {'PUlocationID': '-1.0', 'DOlocationID': '71.0'},\n {'PUlocationID': '-1.0', 'DOlocationID': '189.0'},\n {'PUlocationID': '-1.0', 'DOlocationID': '-1.0'},\n {'PUlocationID': '-1.0', 'DOlocationID': '-1.0'},\n {'PUlocationID': '-1.0', 'DOlocationID': '-1.0'},\n {'PUlocationID': '-1.0', 'DOlocationID': '85.0'},\n {'PUlocationID': '-1.0', 'DOlocationID': '77.0'},\n {'PUlocationID': '-1.0', 'DOlocationID': '61.0'},\n {'PUlocationID': '-1.0', 'DOlocationID': '76.0'},\n {'PUlocationID': '-1.0', 'DOlocationID': '-1.0'},\n {'PUlocationID': '-1.0', 'DOlocationID': '36.0'},\n {'PUlocationID': '-1.0', 'DOlocationID': '198.0'},\n {'PUlocationID': '-1.0', 'DOlocationID': '36.0'},\n {'PUlocationID': '-1.0', 'DOlocationID': '-1.0'},\n {'PUlocationID': '-1.0', 'DOlocationID': '133.0'},\n {'PUlocationID': '-1.0', 'DOlocationID': '14.0'},\n {'PUlocationID': '-1.0', 'DOlocationID': '14.0'},\n {'PUlocationID': '-1.0', 'DOlocationID': '14.0'},\n {'PUlocationID': '-1.0', 'DOlocationID': '14.0'},\n {'PUlocationID': '-1.0', 'DOlocationID': '22.0'},\n {'PUlocationID': '-1.0', 'DOlocationID': '72.0'},\n {'PUlocationID': '-1.0', 'DOlocationID': '181.0'},\n {'PUlocationID': '-1.0', 'DOlocationID': '49.0'},\n {'PUlocationID': '-1.0', 'DOlocationID': '225.0'},\n {'PUlocationID': '-1.0', 'DOlocationID': '49.0'},\n {'PUlocationID': '-1.0', 'DOlocationID': '61.0'},\n {'PUlocationID': '-1.0', 'DOlocationID': '76.0'},\n {'PUlocationID': '-1.0', 'DOlocationID': '228.0'},\n {'PUlocationID': '-1.0', 'DOlocationID': '228.0'},\n {'PUlocationID': '-1.0', 'DOlocationID': '14.0'},\n {'PUlocationID': '-1.0', 'DOlocationID': '261.0'},\n {'PUlocationID': '-1.0', 'DOlocationID': '76.0'},\n {'PUlocationID': '-1.0', 'DOlocationID': '195.0'},\n {'PUlocationID': '-1.0', 'DOlocationID': '130.0'},\n {'PUlocationID': '-1.0', 'DOlocationID': '232.0'},\n {'PUlocationID': '-1.0', 'DOlocationID': '139.0'},\n {'PUlocationID': '-1.0', 'DOlocationID': '139.0'},\n {'PUlocationID': '-1.0', 'DOlocationID': '35.0'},\n {'PUlocationID': '-1.0', 'DOlocationID': '17.0'},\n {'PUlocationID': '-1.0', 'DOlocationID': '179.0'},\n {'PUlocationID': '233.0', 'DOlocationID': '140.0'},\n {'PUlocationID': '-1.0', 'DOlocationID': '-1.0'},\n {'PUlocationID': '-1.0', 'DOlocationID': '-1.0'},\n {'PUlocationID': '-1.0', 'DOlocationID': '-1.0'},\n {'PUlocationID': '-1.0', 'DOlocationID': '-1.0'},\n {'PUlocationID': '-1.0', 'DOlocationID': '-1.0'},\n {'PUlocationID': '-1.0', 'DOlocationID': '-1.0'},\n {'PUlocationID': '-1.0', 'DOlocationID': '94.0'},\n {'PUlocationID': '-1.0', 'DOlocationID': '94.0'},\n {'PUlocationID': '-1.0', 'DOlocationID': '248.0'},\n {'PUlocationID': '-1.0', 'DOlocationID': '81.0'},\n {'PUlocationID': '-1.0', 'DOlocationID': '212.0'},\n {'PUlocationID': '-1.0', 'DOlocationID': '169.0'},\n {'PUlocationID': '-1.0', 'DOlocationID': '248.0'},\n ...]"
     },
     "execution_count": 64,
     "metadata": {},
     "output_type": "execute_result"
    }
   ],
   "source": [
    "df_for_training = data_january_filtered.loc[:, ['PUlocationID', 'DOlocationID']]\n",
    "df_for_training.loc[:, ['PUlocationID', 'DOlocationID']] = df_for_training.loc[:, ['PUlocationID', 'DOlocationID']].astype(str)\n",
    "\n",
    "df_list_of_dicts = df_for_training.to_dict(orient='records')\n",
    "df_list_of_dicts"
   ],
   "metadata": {
    "collapsed": false,
    "pycharm": {
     "name": "#%%\n"
    }
   }
  },
  {
   "cell_type": "code",
   "execution_count": 65,
   "outputs": [],
   "source": [
    "# vectorize dicts\n",
    "dvect = DictVectorizer()"
   ],
   "metadata": {
    "collapsed": false,
    "pycharm": {
     "name": "#%%\n"
    }
   }
  },
  {
   "cell_type": "code",
   "execution_count": 66,
   "outputs": [],
   "source": [
    "xtrain = dvect.fit_transform(df_list_of_dicts)"
   ],
   "metadata": {
    "collapsed": false,
    "pycharm": {
     "name": "#%%\n"
    }
   }
  },
  {
   "cell_type": "code",
   "execution_count": 67,
   "outputs": [
    {
     "data": {
      "text/plain": "<1109826x525 sparse matrix of type '<class 'numpy.float64'>'\n\twith 2219652 stored elements in Compressed Sparse Row format>"
     },
     "execution_count": 67,
     "metadata": {},
     "output_type": "execute_result"
    }
   ],
   "source": [
    "xtrain"
   ],
   "metadata": {
    "collapsed": false,
    "pycharm": {
     "name": "#%%\n"
    }
   }
  },
  {
   "cell_type": "code",
   "execution_count": 68,
   "outputs": [],
   "source": [
    "ytrain = data_january_filtered.trip_duration.values"
   ],
   "metadata": {
    "collapsed": false,
    "pycharm": {
     "name": "#%%\n"
    }
   }
  },
  {
   "cell_type": "code",
   "execution_count": 69,
   "outputs": [
    {
     "data": {
      "text/plain": "array([17.        , 17.        ,  8.28333333, ..., 16.2       ,\n       19.43333333, 36.        ])"
     },
     "execution_count": 69,
     "metadata": {},
     "output_type": "execute_result"
    }
   ],
   "source": [
    "ytrain"
   ],
   "metadata": {
    "collapsed": false,
    "pycharm": {
     "name": "#%%\n"
    }
   }
  },
  {
   "cell_type": "markdown",
   "source": [
    "### Model training\n",
    "\n",
    "#### Q5. Training a model\n",
    "\n",
    "Now let's use the feature matrix from the previous step to train a model.\n",
    "\n",
    "Train a plain linear regression model with default parameters\n",
    "Calculate the RMSE of the model on the training data\n",
    "What's the RMSE on train?"
   ],
   "metadata": {
    "collapsed": false,
    "pycharm": {
     "name": "#%% md\n"
    }
   }
  },
  {
   "cell_type": "code",
   "execution_count": 70,
   "outputs": [],
   "source": [
    "lin_reg = LinearRegression()"
   ],
   "metadata": {
    "collapsed": false,
    "pycharm": {
     "name": "#%%\n"
    }
   }
  },
  {
   "cell_type": "code",
   "execution_count": 71,
   "outputs": [
    {
     "data": {
      "text/plain": "LinearRegression()",
      "text/html": "<style>#sk-container-id-1 {color: black;background-color: white;}#sk-container-id-1 pre{padding: 0;}#sk-container-id-1 div.sk-toggleable {background-color: white;}#sk-container-id-1 label.sk-toggleable__label {cursor: pointer;display: block;width: 100%;margin-bottom: 0;padding: 0.3em;box-sizing: border-box;text-align: center;}#sk-container-id-1 label.sk-toggleable__label-arrow:before {content: \"▸\";float: left;margin-right: 0.25em;color: #696969;}#sk-container-id-1 label.sk-toggleable__label-arrow:hover:before {color: black;}#sk-container-id-1 div.sk-estimator:hover label.sk-toggleable__label-arrow:before {color: black;}#sk-container-id-1 div.sk-toggleable__content {max-height: 0;max-width: 0;overflow: hidden;text-align: left;background-color: #f0f8ff;}#sk-container-id-1 div.sk-toggleable__content pre {margin: 0.2em;color: black;border-radius: 0.25em;background-color: #f0f8ff;}#sk-container-id-1 input.sk-toggleable__control:checked~div.sk-toggleable__content {max-height: 200px;max-width: 100%;overflow: auto;}#sk-container-id-1 input.sk-toggleable__control:checked~label.sk-toggleable__label-arrow:before {content: \"▾\";}#sk-container-id-1 div.sk-estimator input.sk-toggleable__control:checked~label.sk-toggleable__label {background-color: #d4ebff;}#sk-container-id-1 div.sk-label input.sk-toggleable__control:checked~label.sk-toggleable__label {background-color: #d4ebff;}#sk-container-id-1 input.sk-hidden--visually {border: 0;clip: rect(1px 1px 1px 1px);clip: rect(1px, 1px, 1px, 1px);height: 1px;margin: -1px;overflow: hidden;padding: 0;position: absolute;width: 1px;}#sk-container-id-1 div.sk-estimator {font-family: monospace;background-color: #f0f8ff;border: 1px dotted black;border-radius: 0.25em;box-sizing: border-box;margin-bottom: 0.5em;}#sk-container-id-1 div.sk-estimator:hover {background-color: #d4ebff;}#sk-container-id-1 div.sk-parallel-item::after {content: \"\";width: 100%;border-bottom: 1px solid gray;flex-grow: 1;}#sk-container-id-1 div.sk-label:hover label.sk-toggleable__label {background-color: #d4ebff;}#sk-container-id-1 div.sk-serial::before {content: \"\";position: absolute;border-left: 1px solid gray;box-sizing: border-box;top: 0;bottom: 0;left: 50%;z-index: 0;}#sk-container-id-1 div.sk-serial {display: flex;flex-direction: column;align-items: center;background-color: white;padding-right: 0.2em;padding-left: 0.2em;position: relative;}#sk-container-id-1 div.sk-item {position: relative;z-index: 1;}#sk-container-id-1 div.sk-parallel {display: flex;align-items: stretch;justify-content: center;background-color: white;position: relative;}#sk-container-id-1 div.sk-item::before, #sk-container-id-1 div.sk-parallel-item::before {content: \"\";position: absolute;border-left: 1px solid gray;box-sizing: border-box;top: 0;bottom: 0;left: 50%;z-index: -1;}#sk-container-id-1 div.sk-parallel-item {display: flex;flex-direction: column;z-index: 1;position: relative;background-color: white;}#sk-container-id-1 div.sk-parallel-item:first-child::after {align-self: flex-end;width: 50%;}#sk-container-id-1 div.sk-parallel-item:last-child::after {align-self: flex-start;width: 50%;}#sk-container-id-1 div.sk-parallel-item:only-child::after {width: 0;}#sk-container-id-1 div.sk-dashed-wrapped {border: 1px dashed gray;margin: 0 0.4em 0.5em 0.4em;box-sizing: border-box;padding-bottom: 0.4em;background-color: white;}#sk-container-id-1 div.sk-label label {font-family: monospace;font-weight: bold;display: inline-block;line-height: 1.2em;}#sk-container-id-1 div.sk-label-container {text-align: center;}#sk-container-id-1 div.sk-container {/* jupyter's `normalize.less` sets `[hidden] { display: none; }` but bootstrap.min.css set `[hidden] { display: none !important; }` so we also need the `!important` here to be able to override the default hidden behavior on the sphinx rendered scikit-learn.org. See: https://github.com/scikit-learn/scikit-learn/issues/21755 */display: inline-block !important;position: relative;}#sk-container-id-1 div.sk-text-repr-fallback {display: none;}</style><div id=\"sk-container-id-1\" class=\"sk-top-container\"><div class=\"sk-text-repr-fallback\"><pre>LinearRegression()</pre><b>In a Jupyter environment, please rerun this cell to show the HTML representation or trust the notebook. <br />On GitHub, the HTML representation is unable to render, please try loading this page with nbviewer.org.</b></div><div class=\"sk-container\" hidden><div class=\"sk-item\"><div class=\"sk-estimator sk-toggleable\"><input class=\"sk-toggleable__control sk-hidden--visually\" id=\"sk-estimator-id-1\" type=\"checkbox\" checked><label for=\"sk-estimator-id-1\" class=\"sk-toggleable__label sk-toggleable__label-arrow\">LinearRegression</label><div class=\"sk-toggleable__content\"><pre>LinearRegression()</pre></div></div></div></div></div>"
     },
     "execution_count": 71,
     "metadata": {},
     "output_type": "execute_result"
    }
   ],
   "source": [
    "lin_reg.fit(xtrain, ytrain)"
   ],
   "metadata": {
    "collapsed": false,
    "pycharm": {
     "name": "#%%\n"
    }
   }
  },
  {
   "cell_type": "code",
   "execution_count": 72,
   "outputs": [],
   "source": [
    "ypred = lin_reg.predict(xtrain)"
   ],
   "metadata": {
    "collapsed": false,
    "pycharm": {
     "name": "#%%\n"
    }
   }
  },
  {
   "cell_type": "code",
   "execution_count": 74,
   "outputs": [
    {
     "data": {
      "text/plain": "10.528519419910545"
     },
     "execution_count": 74,
     "metadata": {},
     "output_type": "execute_result"
    }
   ],
   "source": [
    "rmse = mean_squared_error(ytrain, ypred, squared=False)\n",
    "rmse"
   ],
   "metadata": {
    "collapsed": false,
    "pycharm": {
     "name": "#%%\n"
    }
   }
  },
  {
   "cell_type": "code",
   "execution_count": 75,
   "outputs": [
    {
     "name": "stdout",
     "output_type": "stream",
     "text": [
      "RMSE on training data = 10.528519419910545\n"
     ]
    }
   ],
   "source": [
    "print(f'RMSE on training data = {rmse}')"
   ],
   "metadata": {
    "collapsed": false,
    "pycharm": {
     "name": "#%%\n"
    }
   }
  },
  {
   "cell_type": "markdown",
   "source": [
    "#### Q6. Evaluating the model\n",
    "\n",
    "What's the RMSE on validation?"
   ],
   "metadata": {
    "collapsed": false,
    "pycharm": {
     "name": "#%% md\n"
    }
   }
  },
  {
   "cell_type": "code",
   "execution_count": 76,
   "outputs": [],
   "source": [
    "# evaluate the model on Feb data\n",
    "february_data = pd.read_parquet(february_data_path)"
   ],
   "metadata": {
    "collapsed": false,
    "pycharm": {
     "name": "#%%\n"
    }
   }
  },
  {
   "cell_type": "code",
   "execution_count": 77,
   "outputs": [
    {
     "data": {
      "text/plain": "  dispatching_base_num     pickup_datetime    dropOff_datetime  PUlocationID  \\\n0               B00013 2021-02-01 00:01:00 2021-02-01 01:33:00           NaN   \n1      B00021          2021-02-01 00:55:40 2021-02-01 01:06:20         173.0   \n2      B00021          2021-02-01 00:14:03 2021-02-01 00:28:37         173.0   \n3      B00021          2021-02-01 00:27:48 2021-02-01 00:35:45          82.0   \n4               B00037 2021-02-01 00:12:50 2021-02-01 00:26:38           NaN   \n\n   DOlocationID SR_Flag Affiliated_base_number  \n0           NaN    None                 B00014  \n1          82.0    None        B00021           \n2          56.0    None        B00021           \n3         129.0    None        B00021           \n4         225.0    None                 B00037  ",
      "text/html": "<div>\n<style scoped>\n    .dataframe tbody tr th:only-of-type {\n        vertical-align: middle;\n    }\n\n    .dataframe tbody tr th {\n        vertical-align: top;\n    }\n\n    .dataframe thead th {\n        text-align: right;\n    }\n</style>\n<table border=\"1\" class=\"dataframe\">\n  <thead>\n    <tr style=\"text-align: right;\">\n      <th></th>\n      <th>dispatching_base_num</th>\n      <th>pickup_datetime</th>\n      <th>dropOff_datetime</th>\n      <th>PUlocationID</th>\n      <th>DOlocationID</th>\n      <th>SR_Flag</th>\n      <th>Affiliated_base_number</th>\n    </tr>\n  </thead>\n  <tbody>\n    <tr>\n      <th>0</th>\n      <td>B00013</td>\n      <td>2021-02-01 00:01:00</td>\n      <td>2021-02-01 01:33:00</td>\n      <td>NaN</td>\n      <td>NaN</td>\n      <td>None</td>\n      <td>B00014</td>\n    </tr>\n    <tr>\n      <th>1</th>\n      <td>B00021</td>\n      <td>2021-02-01 00:55:40</td>\n      <td>2021-02-01 01:06:20</td>\n      <td>173.0</td>\n      <td>82.0</td>\n      <td>None</td>\n      <td>B00021</td>\n    </tr>\n    <tr>\n      <th>2</th>\n      <td>B00021</td>\n      <td>2021-02-01 00:14:03</td>\n      <td>2021-02-01 00:28:37</td>\n      <td>173.0</td>\n      <td>56.0</td>\n      <td>None</td>\n      <td>B00021</td>\n    </tr>\n    <tr>\n      <th>3</th>\n      <td>B00021</td>\n      <td>2021-02-01 00:27:48</td>\n      <td>2021-02-01 00:35:45</td>\n      <td>82.0</td>\n      <td>129.0</td>\n      <td>None</td>\n      <td>B00021</td>\n    </tr>\n    <tr>\n      <th>4</th>\n      <td>B00037</td>\n      <td>2021-02-01 00:12:50</td>\n      <td>2021-02-01 00:26:38</td>\n      <td>NaN</td>\n      <td>225.0</td>\n      <td>None</td>\n      <td>B00037</td>\n    </tr>\n  </tbody>\n</table>\n</div>"
     },
     "execution_count": 77,
     "metadata": {},
     "output_type": "execute_result"
    }
   ],
   "source": [
    "february_data.head()"
   ],
   "metadata": {
    "collapsed": false,
    "pycharm": {
     "name": "#%%\n"
    }
   }
  },
  {
   "cell_type": "code",
   "execution_count": 79,
   "outputs": [
    {
     "data": {
      "text/plain": "        dispatching_base_num     pickup_datetime    dropOff_datetime  \\\n0                     B00013 2021-02-01 00:01:00 2021-02-01 01:33:00   \n1            B00021          2021-02-01 00:55:40 2021-02-01 01:06:20   \n2            B00021          2021-02-01 00:14:03 2021-02-01 00:28:37   \n3            B00021          2021-02-01 00:27:48 2021-02-01 00:35:45   \n4                     B00037 2021-02-01 00:12:50 2021-02-01 00:26:38   \n...                      ...                 ...                 ...   \n1037687               B03282 2021-02-28 23:01:16 2021-02-28 23:14:48   \n1037688               B03282 2021-02-28 23:36:10 2021-02-28 23:47:38   \n1037689      B03285          2021-02-28 23:18:36 2021-02-28 23:43:59   \n1037690      B03285          2021-02-28 23:26:34 2021-02-28 23:44:37   \n1037691      B03285          2021-02-28 23:24:00 2021-02-28 23:40:00   \n\n         PUlocationID  DOlocationID SR_Flag Affiliated_base_number  \\\n0                 NaN           NaN    None                 B00014   \n1               173.0          82.0    None        B00021            \n2               173.0          56.0    None        B00021            \n3                82.0         129.0    None        B00021            \n4                 NaN         225.0    None                 B00037   \n...               ...           ...     ...                    ...   \n1037687           NaN          31.0    None                 B01717   \n1037688           NaN         169.0    None                 B01717   \n1037689          28.0         171.0    None        B03285            \n1037690          16.0         252.0    None        B03285            \n1037691         171.0         135.0    None        B03285            \n\n         trip_duration  \n0            92.000000  \n1            10.666667  \n2            14.566667  \n3             7.950000  \n4            13.800000  \n...                ...  \n1037687      13.533333  \n1037688      11.466667  \n1037689      25.383333  \n1037690      18.050000  \n1037691      16.000000  \n\n[1037692 rows x 8 columns]",
      "text/html": "<div>\n<style scoped>\n    .dataframe tbody tr th:only-of-type {\n        vertical-align: middle;\n    }\n\n    .dataframe tbody tr th {\n        vertical-align: top;\n    }\n\n    .dataframe thead th {\n        text-align: right;\n    }\n</style>\n<table border=\"1\" class=\"dataframe\">\n  <thead>\n    <tr style=\"text-align: right;\">\n      <th></th>\n      <th>dispatching_base_num</th>\n      <th>pickup_datetime</th>\n      <th>dropOff_datetime</th>\n      <th>PUlocationID</th>\n      <th>DOlocationID</th>\n      <th>SR_Flag</th>\n      <th>Affiliated_base_number</th>\n      <th>trip_duration</th>\n    </tr>\n  </thead>\n  <tbody>\n    <tr>\n      <th>0</th>\n      <td>B00013</td>\n      <td>2021-02-01 00:01:00</td>\n      <td>2021-02-01 01:33:00</td>\n      <td>NaN</td>\n      <td>NaN</td>\n      <td>None</td>\n      <td>B00014</td>\n      <td>92.000000</td>\n    </tr>\n    <tr>\n      <th>1</th>\n      <td>B00021</td>\n      <td>2021-02-01 00:55:40</td>\n      <td>2021-02-01 01:06:20</td>\n      <td>173.0</td>\n      <td>82.0</td>\n      <td>None</td>\n      <td>B00021</td>\n      <td>10.666667</td>\n    </tr>\n    <tr>\n      <th>2</th>\n      <td>B00021</td>\n      <td>2021-02-01 00:14:03</td>\n      <td>2021-02-01 00:28:37</td>\n      <td>173.0</td>\n      <td>56.0</td>\n      <td>None</td>\n      <td>B00021</td>\n      <td>14.566667</td>\n    </tr>\n    <tr>\n      <th>3</th>\n      <td>B00021</td>\n      <td>2021-02-01 00:27:48</td>\n      <td>2021-02-01 00:35:45</td>\n      <td>82.0</td>\n      <td>129.0</td>\n      <td>None</td>\n      <td>B00021</td>\n      <td>7.950000</td>\n    </tr>\n    <tr>\n      <th>4</th>\n      <td>B00037</td>\n      <td>2021-02-01 00:12:50</td>\n      <td>2021-02-01 00:26:38</td>\n      <td>NaN</td>\n      <td>225.0</td>\n      <td>None</td>\n      <td>B00037</td>\n      <td>13.800000</td>\n    </tr>\n    <tr>\n      <th>...</th>\n      <td>...</td>\n      <td>...</td>\n      <td>...</td>\n      <td>...</td>\n      <td>...</td>\n      <td>...</td>\n      <td>...</td>\n      <td>...</td>\n    </tr>\n    <tr>\n      <th>1037687</th>\n      <td>B03282</td>\n      <td>2021-02-28 23:01:16</td>\n      <td>2021-02-28 23:14:48</td>\n      <td>NaN</td>\n      <td>31.0</td>\n      <td>None</td>\n      <td>B01717</td>\n      <td>13.533333</td>\n    </tr>\n    <tr>\n      <th>1037688</th>\n      <td>B03282</td>\n      <td>2021-02-28 23:36:10</td>\n      <td>2021-02-28 23:47:38</td>\n      <td>NaN</td>\n      <td>169.0</td>\n      <td>None</td>\n      <td>B01717</td>\n      <td>11.466667</td>\n    </tr>\n    <tr>\n      <th>1037689</th>\n      <td>B03285</td>\n      <td>2021-02-28 23:18:36</td>\n      <td>2021-02-28 23:43:59</td>\n      <td>28.0</td>\n      <td>171.0</td>\n      <td>None</td>\n      <td>B03285</td>\n      <td>25.383333</td>\n    </tr>\n    <tr>\n      <th>1037690</th>\n      <td>B03285</td>\n      <td>2021-02-28 23:26:34</td>\n      <td>2021-02-28 23:44:37</td>\n      <td>16.0</td>\n      <td>252.0</td>\n      <td>None</td>\n      <td>B03285</td>\n      <td>18.050000</td>\n    </tr>\n    <tr>\n      <th>1037691</th>\n      <td>B03285</td>\n      <td>2021-02-28 23:24:00</td>\n      <td>2021-02-28 23:40:00</td>\n      <td>171.0</td>\n      <td>135.0</td>\n      <td>None</td>\n      <td>B03285</td>\n      <td>16.000000</td>\n    </tr>\n  </tbody>\n</table>\n<p>1037692 rows × 8 columns</p>\n</div>"
     },
     "execution_count": 79,
     "metadata": {},
     "output_type": "execute_result"
    }
   ],
   "source": [
    "# add trip duration column\n",
    "february_data = february_data.assign(trip_duration=lambda r: (r.dropOff_datetime - r.pickup_datetime).dt.total_seconds() / 60)\n",
    "february_data"
   ],
   "metadata": {
    "collapsed": false,
    "pycharm": {
     "name": "#%%\n"
    }
   }
  },
  {
   "cell_type": "code",
   "execution_count": 80,
   "outputs": [],
   "source": [
    "# filter durations\n",
    "february_data_filtered = february_data.loc[lambda r: r.trip_duration.between(1, 60)]"
   ],
   "metadata": {
    "collapsed": false,
    "pycharm": {
     "name": "#%%\n"
    }
   }
  },
  {
   "cell_type": "code",
   "execution_count": 81,
   "outputs": [],
   "source": [
    "# make test data\n",
    "february_data_test = february_data_filtered.loc[:, ['PUlocationID', 'DOlocationID']]\n",
    "february_data_test.loc[:, ['PUlocationID', 'DOlocationID']] = february_data_test.loc[:, ['PUlocationID', 'DOlocationID']].astype(str)\n"
   ],
   "metadata": {
    "collapsed": false,
    "pycharm": {
     "name": "#%%\n"
    }
   }
  },
  {
   "cell_type": "code",
   "execution_count": 82,
   "outputs": [],
   "source": [
    "# convert data to list of dicts\n",
    "february_data_dicts = february_data_test.loc[:, ['PUlocationID', 'DOlocationID']].to_dict(orient='records')\n"
   ],
   "metadata": {
    "collapsed": false,
    "pycharm": {
     "name": "#%%\n"
    }
   }
  },
  {
   "cell_type": "code",
   "execution_count": 83,
   "outputs": [],
   "source": [
    "# test and validation\n",
    "xtest = dvect.transform(february_data_dicts)\n",
    "ytest = february_data_filtered.trip_duration.values\n"
   ],
   "metadata": {
    "collapsed": false,
    "pycharm": {
     "name": "#%%\n"
    }
   }
  },
  {
   "cell_type": "code",
   "execution_count": 84,
   "outputs": [],
   "source": [
    "# make prediction for February\n",
    "february_prediction = lin_reg.predict(xtest)\n"
   ],
   "metadata": {
    "collapsed": false,
    "pycharm": {
     "name": "#%%\n"
    }
   }
  },
  {
   "cell_type": "code",
   "execution_count": 86,
   "outputs": [
    {
     "name": "stdout",
     "output_type": "stream",
     "text": [
      "RMSE on validation data is 11.364097859567611\n"
     ]
    }
   ],
   "source": [
    "# evaluate RMSE\n",
    "february_rmse = mean_squared_error(ytest, february_prediction, squared=False)\n",
    "print(f'RMSE on validation data is {february_rmse}')\n"
   ],
   "metadata": {
    "collapsed": false,
    "pycharm": {
     "name": "#%%\n"
    }
   }
  },
  {
   "cell_type": "code",
   "execution_count": null,
   "outputs": [],
   "source": [],
   "metadata": {
    "collapsed": false,
    "pycharm": {
     "name": "#%%\n"
    }
   }
  }
 ],
 "metadata": {
  "kernelspec": {
   "display_name": "Python 3",
   "language": "python",
   "name": "python3"
  },
  "language_info": {
   "codemirror_mode": {
    "name": "ipython",
    "version": 2
   },
   "file_extension": ".py",
   "mimetype": "text/x-python",
   "name": "python",
   "nbconvert_exporter": "python",
   "pygments_lexer": "ipython2",
   "version": "2.7.6"
  }
 },
 "nbformat": 4,
 "nbformat_minor": 0
}